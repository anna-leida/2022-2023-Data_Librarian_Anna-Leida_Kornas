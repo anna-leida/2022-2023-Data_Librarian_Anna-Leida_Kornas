{
 "cells": [
  {
   "cell_type": "markdown",
   "id": "c15662cc",
   "metadata": {},
   "source": [
    "# Abschlussprojekt - Feedback Schülerschulungen auswerten"
   ]
  },
  {
   "cell_type": "code",
   "execution_count": 1,
   "id": "8779dcf6",
   "metadata": {
    "scrolled": true
   },
   "outputs": [],
   "source": [
    "import pandas as pd\n",
    "import matplotlib.pyplot as plt\n",
    "import seaborn as sns\n",
    "import numpy as np\n",
    "%matplotlib inline\n",
    "sns.set() #Grundlegendes Design wird angepasst\n",
    "\n",
    "df = pd.read_csv(r'C:\\Users\\Anna-Leida\\OneDrive\\Desktop\\Zertifikatskurs_Projekt\\Feedback_Schule_2022.csv') #Umwandlung der Zeichenkette mittels r"
   ]
  },
  {
   "cell_type": "code",
   "execution_count": 2,
   "id": "a2548a68",
   "metadata": {},
   "outputs": [
    {
     "data": {
      "text/html": [
       "<div>\n",
       "<style scoped>\n",
       "    .dataframe tbody tr th:only-of-type {\n",
       "        vertical-align: middle;\n",
       "    }\n",
       "\n",
       "    .dataframe tbody tr th {\n",
       "        vertical-align: top;\n",
       "    }\n",
       "\n",
       "    .dataframe thead th {\n",
       "        text-align: right;\n",
       "    }\n",
       "</style>\n",
       "<table border=\"1\" class=\"dataframe\">\n",
       "  <thead>\n",
       "    <tr style=\"text-align: right;\">\n",
       "      <th></th>\n",
       "      <th>Zeitstempel</th>\n",
       "      <th>Lernerfolg [Ich kann ein Buch zu einem Thema im Katalog plus der BLB finden und ausleihen.]</th>\n",
       "      <th>Lernerfolg [Ich kann einen Artikel zu einem Thema im Katalog plus der BLB finden.]</th>\n",
       "      <th>Lernerfolg [Ich finde mich im Gebäude der BLB zurecht.]</th>\n",
       "      <th>Lernerfolg [Was ich in dieser Schulung gelernt habe, ist für mich nützlich.]</th>\n",
       "      <th>Das fand ich für mich besonders wichtig! [Tipps zum Finden von Suchbegriffen mit dem Brockhaus]</th>\n",
       "      <th>Das fand ich für mich besonders wichtig! [Finden von Büchern &amp; Artikeln]</th>\n",
       "      <th>Das fand ich für mich besonders wichtig! [Übungen zur Datenbank Statista]</th>\n",
       "      <th>Das fand ich für mich besonders wichtig! [Rundgang durch die Bibliothek]</th>\n",
       "      <th>Das fand ich für mich besonders wichtig! [Alles rund um Ausleihe und Benutzerkonto]</th>\n",
       "      <th>Inhalte und Ablauf der Schulung [Der Ablauf der Schulung war für mich nachvollziehbar.]</th>\n",
       "      <th>Inhalte und Ablauf der Schulung [Das selbständige Arbeiten mit Moodle hat mir gefallen.]</th>\n",
       "      <th>Inhalte und Ablauf der Schulung [Die Aufgaben waren verständlich formuliert.]</th>\n",
       "      <th>Inhalte und Ablauf der Schulung [Die Quizrunden haben mir gefallen.]</th>\n",
       "      <th>Der Anspruch war für mich...</th>\n",
       "      <th>Die Dauer der Schulung war für mich...</th>\n",
       "      <th>Hier können Sie uns eine Note geben.</th>\n",
       "      <th>Wollen Sie uns noch etwas mitteilen?</th>\n",
       "      <th>Das fand ich für mich besonders wichtig! [Informationen zur Datenbank Statista]</th>\n",
       "    </tr>\n",
       "  </thead>\n",
       "  <tbody>\n",
       "    <tr>\n",
       "      <th>0</th>\n",
       "      <td>10.01.2023 11:02:55</td>\n",
       "      <td>1 (trifft voll und ganz zu)</td>\n",
       "      <td>1 (trifft voll und ganz zu)</td>\n",
       "      <td>2</td>\n",
       "      <td>1 (trifft voll und ganz zu)</td>\n",
       "      <td>2</td>\n",
       "      <td>1 (trifft voll und ganz zu)</td>\n",
       "      <td>NaN</td>\n",
       "      <td>1 (trifft voll und ganz zu)</td>\n",
       "      <td>2</td>\n",
       "      <td>1 (trifft voll und ganz zu)</td>\n",
       "      <td>NaN</td>\n",
       "      <td>1 (trifft voll und ganz zu)</td>\n",
       "      <td>1 (trifft voll und ganz zu)</td>\n",
       "      <td>gerade richtig</td>\n",
       "      <td>gerade richtig</td>\n",
       "      <td>6.0</td>\n",
       "      <td>NaN</td>\n",
       "      <td>1 (trifft voll und ganz zu)</td>\n",
       "    </tr>\n",
       "    <tr>\n",
       "      <th>1</th>\n",
       "      <td>10.01.2023 11:03:21</td>\n",
       "      <td>1 (trifft voll und ganz zu)</td>\n",
       "      <td>1 (trifft voll und ganz zu)</td>\n",
       "      <td>2</td>\n",
       "      <td>1 (trifft voll und ganz zu)</td>\n",
       "      <td>2</td>\n",
       "      <td>1 (trifft voll und ganz zu)</td>\n",
       "      <td>NaN</td>\n",
       "      <td>1 (trifft voll und ganz zu)</td>\n",
       "      <td>2</td>\n",
       "      <td>1 (trifft voll und ganz zu)</td>\n",
       "      <td>NaN</td>\n",
       "      <td>1 (trifft voll und ganz zu)</td>\n",
       "      <td>2</td>\n",
       "      <td>gerade richtig</td>\n",
       "      <td>gerade richtig</td>\n",
       "      <td>1.0</td>\n",
       "      <td>NaN</td>\n",
       "      <td>1 (trifft voll und ganz zu)</td>\n",
       "    </tr>\n",
       "    <tr>\n",
       "      <th>2</th>\n",
       "      <td>10.01.2023 11:03:59</td>\n",
       "      <td>2</td>\n",
       "      <td>1 (trifft voll und ganz zu)</td>\n",
       "      <td>2</td>\n",
       "      <td>1 (trifft voll und ganz zu)</td>\n",
       "      <td>3</td>\n",
       "      <td>2</td>\n",
       "      <td>NaN</td>\n",
       "      <td>1 (trifft voll und ganz zu)</td>\n",
       "      <td>1 (trifft voll und ganz zu)</td>\n",
       "      <td>1 (trifft voll und ganz zu)</td>\n",
       "      <td>NaN</td>\n",
       "      <td>1 (trifft voll und ganz zu)</td>\n",
       "      <td>2</td>\n",
       "      <td>gerade richtig</td>\n",
       "      <td>gerade richtig</td>\n",
       "      <td>1.0</td>\n",
       "      <td>NaN</td>\n",
       "      <td>1 (trifft voll und ganz zu)</td>\n",
       "    </tr>\n",
       "    <tr>\n",
       "      <th>3</th>\n",
       "      <td>10.01.2023 11:04:19</td>\n",
       "      <td>2</td>\n",
       "      <td>2</td>\n",
       "      <td>2</td>\n",
       "      <td>3</td>\n",
       "      <td>2</td>\n",
       "      <td>2</td>\n",
       "      <td>NaN</td>\n",
       "      <td>2</td>\n",
       "      <td>2</td>\n",
       "      <td>2</td>\n",
       "      <td>NaN</td>\n",
       "      <td>1 (trifft voll und ganz zu)</td>\n",
       "      <td>1 (trifft voll und ganz zu)</td>\n",
       "      <td>gerade richtig</td>\n",
       "      <td>zu lang</td>\n",
       "      <td>2.0</td>\n",
       "      <td>NaN</td>\n",
       "      <td>3</td>\n",
       "    </tr>\n",
       "    <tr>\n",
       "      <th>4</th>\n",
       "      <td>10.01.2023 11:04:31</td>\n",
       "      <td>1 (trifft voll und ganz zu)</td>\n",
       "      <td>1 (trifft voll und ganz zu)</td>\n",
       "      <td>2</td>\n",
       "      <td>1 (trifft voll und ganz zu)</td>\n",
       "      <td>2</td>\n",
       "      <td>1 (trifft voll und ganz zu)</td>\n",
       "      <td>NaN</td>\n",
       "      <td>1 (trifft voll und ganz zu)</td>\n",
       "      <td>1 (trifft voll und ganz zu)</td>\n",
       "      <td>1 (trifft voll und ganz zu)</td>\n",
       "      <td>NaN</td>\n",
       "      <td>2</td>\n",
       "      <td>1 (trifft voll und ganz zu)</td>\n",
       "      <td>gerade richtig</td>\n",
       "      <td>gerade richtig</td>\n",
       "      <td>1.0</td>\n",
       "      <td>Nettes Personal!</td>\n",
       "      <td>1 (trifft voll und ganz zu)</td>\n",
       "    </tr>\n",
       "    <tr>\n",
       "      <th>...</th>\n",
       "      <td>...</td>\n",
       "      <td>...</td>\n",
       "      <td>...</td>\n",
       "      <td>...</td>\n",
       "      <td>...</td>\n",
       "      <td>...</td>\n",
       "      <td>...</td>\n",
       "      <td>...</td>\n",
       "      <td>...</td>\n",
       "      <td>...</td>\n",
       "      <td>...</td>\n",
       "      <td>...</td>\n",
       "      <td>...</td>\n",
       "      <td>...</td>\n",
       "      <td>...</td>\n",
       "      <td>...</td>\n",
       "      <td>...</td>\n",
       "      <td>...</td>\n",
       "      <td>...</td>\n",
       "    </tr>\n",
       "    <tr>\n",
       "      <th>423</th>\n",
       "      <td>05.07.2023 11:38:51</td>\n",
       "      <td>2</td>\n",
       "      <td>2</td>\n",
       "      <td>1 (trifft voll und ganz zu)</td>\n",
       "      <td>2</td>\n",
       "      <td>2</td>\n",
       "      <td>2</td>\n",
       "      <td>NaN</td>\n",
       "      <td>1 (trifft voll und ganz zu)</td>\n",
       "      <td>3</td>\n",
       "      <td>3</td>\n",
       "      <td>NaN</td>\n",
       "      <td>2</td>\n",
       "      <td>1 (trifft voll und ganz zu)</td>\n",
       "      <td>zu leicht</td>\n",
       "      <td>gerade richtig</td>\n",
       "      <td>3.0</td>\n",
       "      <td>\\n</td>\n",
       "      <td>1 (trifft voll und ganz zu)</td>\n",
       "    </tr>\n",
       "    <tr>\n",
       "      <th>424</th>\n",
       "      <td>05.07.2023 11:39:22</td>\n",
       "      <td>1 (trifft voll und ganz zu)</td>\n",
       "      <td>2</td>\n",
       "      <td>1 (trifft voll und ganz zu)</td>\n",
       "      <td>1 (trifft voll und ganz zu)</td>\n",
       "      <td>2</td>\n",
       "      <td>1 (trifft voll und ganz zu)</td>\n",
       "      <td>NaN</td>\n",
       "      <td>2</td>\n",
       "      <td>1 (trifft voll und ganz zu)</td>\n",
       "      <td>1 (trifft voll und ganz zu)</td>\n",
       "      <td>NaN</td>\n",
       "      <td>1 (trifft voll und ganz zu)</td>\n",
       "      <td>1 (trifft voll und ganz zu)</td>\n",
       "      <td>gerade richtig</td>\n",
       "      <td>gerade richtig</td>\n",
       "      <td>2.0</td>\n",
       "      <td>NaN</td>\n",
       "      <td>1 (trifft voll und ganz zu)</td>\n",
       "    </tr>\n",
       "    <tr>\n",
       "      <th>425</th>\n",
       "      <td>05.07.2023 11:40:01</td>\n",
       "      <td>2</td>\n",
       "      <td>2</td>\n",
       "      <td>3</td>\n",
       "      <td>2</td>\n",
       "      <td>2</td>\n",
       "      <td>2</td>\n",
       "      <td>NaN</td>\n",
       "      <td>1 (trifft voll und ganz zu)</td>\n",
       "      <td>3</td>\n",
       "      <td>2</td>\n",
       "      <td>NaN</td>\n",
       "      <td>3</td>\n",
       "      <td>2</td>\n",
       "      <td>gerade richtig</td>\n",
       "      <td>zu lang</td>\n",
       "      <td>3.0</td>\n",
       "      <td>Etwas zu langweilig und das Publikum sollte me...</td>\n",
       "      <td>3</td>\n",
       "    </tr>\n",
       "    <tr>\n",
       "      <th>426</th>\n",
       "      <td>05.07.2023 11:40:19</td>\n",
       "      <td>1 (trifft voll und ganz zu)</td>\n",
       "      <td>2</td>\n",
       "      <td>2</td>\n",
       "      <td>2</td>\n",
       "      <td>2</td>\n",
       "      <td>1 (trifft voll und ganz zu)</td>\n",
       "      <td>NaN</td>\n",
       "      <td>2</td>\n",
       "      <td>1 (trifft voll und ganz zu)</td>\n",
       "      <td>3</td>\n",
       "      <td>NaN</td>\n",
       "      <td>2</td>\n",
       "      <td>2</td>\n",
       "      <td>bitte auswählen</td>\n",
       "      <td>bitte auswählen</td>\n",
       "      <td>2.0</td>\n",
       "      <td>NaN</td>\n",
       "      <td>2</td>\n",
       "    </tr>\n",
       "    <tr>\n",
       "      <th>427</th>\n",
       "      <td>07.07.2023 11:23:22</td>\n",
       "      <td>1 (trifft voll und ganz zu)</td>\n",
       "      <td>2</td>\n",
       "      <td>2</td>\n",
       "      <td>2</td>\n",
       "      <td>2</td>\n",
       "      <td>2</td>\n",
       "      <td>NaN</td>\n",
       "      <td>1 (trifft voll und ganz zu)</td>\n",
       "      <td>1 (trifft voll und ganz zu)</td>\n",
       "      <td>1 (trifft voll und ganz zu)</td>\n",
       "      <td>NaN</td>\n",
       "      <td>1 (trifft voll und ganz zu)</td>\n",
       "      <td>1 (trifft voll und ganz zu)</td>\n",
       "      <td>gerade richtig</td>\n",
       "      <td>gerade richtig</td>\n",
       "      <td>2.0</td>\n",
       "      <td>NaN</td>\n",
       "      <td>2</td>\n",
       "    </tr>\n",
       "  </tbody>\n",
       "</table>\n",
       "<p>428 rows × 19 columns</p>\n",
       "</div>"
      ],
      "text/plain": [
       "             Zeitstempel  \\\n",
       "0    10.01.2023 11:02:55   \n",
       "1    10.01.2023 11:03:21   \n",
       "2    10.01.2023 11:03:59   \n",
       "3    10.01.2023 11:04:19   \n",
       "4    10.01.2023 11:04:31   \n",
       "..                   ...   \n",
       "423  05.07.2023 11:38:51   \n",
       "424  05.07.2023 11:39:22   \n",
       "425  05.07.2023 11:40:01   \n",
       "426  05.07.2023 11:40:19   \n",
       "427  07.07.2023 11:23:22   \n",
       "\n",
       "    Lernerfolg [Ich kann ein Buch zu einem Thema im Katalog plus der BLB finden und ausleihen.]  \\\n",
       "0                          1 (trifft voll und ganz zu)                                            \n",
       "1                          1 (trifft voll und ganz zu)                                            \n",
       "2                                                    2                                            \n",
       "3                                                    2                                            \n",
       "4                          1 (trifft voll und ganz zu)                                            \n",
       "..                                                 ...                                            \n",
       "423                                                  2                                            \n",
       "424                        1 (trifft voll und ganz zu)                                            \n",
       "425                                                  2                                            \n",
       "426                        1 (trifft voll und ganz zu)                                            \n",
       "427                        1 (trifft voll und ganz zu)                                            \n",
       "\n",
       "    Lernerfolg [Ich kann einen Artikel zu einem Thema im Katalog plus der BLB finden.]  \\\n",
       "0                          1 (trifft voll und ganz zu)                                   \n",
       "1                          1 (trifft voll und ganz zu)                                   \n",
       "2                          1 (trifft voll und ganz zu)                                   \n",
       "3                                                    2                                   \n",
       "4                          1 (trifft voll und ganz zu)                                   \n",
       "..                                                 ...                                   \n",
       "423                                                  2                                   \n",
       "424                                                  2                                   \n",
       "425                                                  2                                   \n",
       "426                                                  2                                   \n",
       "427                                                  2                                   \n",
       "\n",
       "    Lernerfolg [Ich finde mich im Gebäude der BLB zurecht.]  \\\n",
       "0                                                    2        \n",
       "1                                                    2        \n",
       "2                                                    2        \n",
       "3                                                    2        \n",
       "4                                                    2        \n",
       "..                                                 ...        \n",
       "423                        1 (trifft voll und ganz zu)        \n",
       "424                        1 (trifft voll und ganz zu)        \n",
       "425                                                  3        \n",
       "426                                                  2        \n",
       "427                                                  2        \n",
       "\n",
       "    Lernerfolg [Was ich in dieser Schulung gelernt habe, ist für mich nützlich.]  \\\n",
       "0                          1 (trifft voll und ganz zu)                             \n",
       "1                          1 (trifft voll und ganz zu)                             \n",
       "2                          1 (trifft voll und ganz zu)                             \n",
       "3                                                    3                             \n",
       "4                          1 (trifft voll und ganz zu)                             \n",
       "..                                                 ...                             \n",
       "423                                                  2                             \n",
       "424                        1 (trifft voll und ganz zu)                             \n",
       "425                                                  2                             \n",
       "426                                                  2                             \n",
       "427                                                  2                             \n",
       "\n",
       "    Das fand ich für mich besonders wichtig! [Tipps zum Finden von Suchbegriffen mit dem Brockhaus]  \\\n",
       "0                                                    2                                                \n",
       "1                                                    2                                                \n",
       "2                                                    3                                                \n",
       "3                                                    2                                                \n",
       "4                                                    2                                                \n",
       "..                                                 ...                                                \n",
       "423                                                  2                                                \n",
       "424                                                  2                                                \n",
       "425                                                  2                                                \n",
       "426                                                  2                                                \n",
       "427                                                  2                                                \n",
       "\n",
       "    Das fand ich für mich besonders wichtig! [Finden von Büchern & Artikeln]  \\\n",
       "0                          1 (trifft voll und ganz zu)                         \n",
       "1                          1 (trifft voll und ganz zu)                         \n",
       "2                                                    2                         \n",
       "3                                                    2                         \n",
       "4                          1 (trifft voll und ganz zu)                         \n",
       "..                                                 ...                         \n",
       "423                                                  2                         \n",
       "424                        1 (trifft voll und ganz zu)                         \n",
       "425                                                  2                         \n",
       "426                        1 (trifft voll und ganz zu)                         \n",
       "427                                                  2                         \n",
       "\n",
       "     Das fand ich für mich besonders wichtig! [Übungen zur Datenbank Statista]  \\\n",
       "0                                                  NaN                           \n",
       "1                                                  NaN                           \n",
       "2                                                  NaN                           \n",
       "3                                                  NaN                           \n",
       "4                                                  NaN                           \n",
       "..                                                 ...                           \n",
       "423                                                NaN                           \n",
       "424                                                NaN                           \n",
       "425                                                NaN                           \n",
       "426                                                NaN                           \n",
       "427                                                NaN                           \n",
       "\n",
       "    Das fand ich für mich besonders wichtig! [Rundgang durch die Bibliothek]  \\\n",
       "0                          1 (trifft voll und ganz zu)                         \n",
       "1                          1 (trifft voll und ganz zu)                         \n",
       "2                          1 (trifft voll und ganz zu)                         \n",
       "3                                                    2                         \n",
       "4                          1 (trifft voll und ganz zu)                         \n",
       "..                                                 ...                         \n",
       "423                        1 (trifft voll und ganz zu)                         \n",
       "424                                                  2                         \n",
       "425                        1 (trifft voll und ganz zu)                         \n",
       "426                                                  2                         \n",
       "427                        1 (trifft voll und ganz zu)                         \n",
       "\n",
       "    Das fand ich für mich besonders wichtig! [Alles rund um Ausleihe und Benutzerkonto]  \\\n",
       "0                                                    2                                    \n",
       "1                                                    2                                    \n",
       "2                          1 (trifft voll und ganz zu)                                    \n",
       "3                                                    2                                    \n",
       "4                          1 (trifft voll und ganz zu)                                    \n",
       "..                                                 ...                                    \n",
       "423                                                  3                                    \n",
       "424                        1 (trifft voll und ganz zu)                                    \n",
       "425                                                  3                                    \n",
       "426                        1 (trifft voll und ganz zu)                                    \n",
       "427                        1 (trifft voll und ganz zu)                                    \n",
       "\n",
       "    Inhalte und Ablauf der Schulung [Der Ablauf der Schulung war für mich nachvollziehbar.]  \\\n",
       "0                          1 (trifft voll und ganz zu)                                        \n",
       "1                          1 (trifft voll und ganz zu)                                        \n",
       "2                          1 (trifft voll und ganz zu)                                        \n",
       "3                                                    2                                        \n",
       "4                          1 (trifft voll und ganz zu)                                        \n",
       "..                                                 ...                                        \n",
       "423                                                  3                                        \n",
       "424                        1 (trifft voll und ganz zu)                                        \n",
       "425                                                  2                                        \n",
       "426                                                  3                                        \n",
       "427                        1 (trifft voll und ganz zu)                                        \n",
       "\n",
       "     Inhalte und Ablauf der Schulung [Das selbständige Arbeiten mit Moodle hat mir gefallen.]  \\\n",
       "0                                                  NaN                                          \n",
       "1                                                  NaN                                          \n",
       "2                                                  NaN                                          \n",
       "3                                                  NaN                                          \n",
       "4                                                  NaN                                          \n",
       "..                                                 ...                                          \n",
       "423                                                NaN                                          \n",
       "424                                                NaN                                          \n",
       "425                                                NaN                                          \n",
       "426                                                NaN                                          \n",
       "427                                                NaN                                          \n",
       "\n",
       "    Inhalte und Ablauf der Schulung [Die Aufgaben waren verständlich formuliert.]  \\\n",
       "0                          1 (trifft voll und ganz zu)                              \n",
       "1                          1 (trifft voll und ganz zu)                              \n",
       "2                          1 (trifft voll und ganz zu)                              \n",
       "3                          1 (trifft voll und ganz zu)                              \n",
       "4                                                    2                              \n",
       "..                                                 ...                              \n",
       "423                                                  2                              \n",
       "424                        1 (trifft voll und ganz zu)                              \n",
       "425                                                  3                              \n",
       "426                                                  2                              \n",
       "427                        1 (trifft voll und ganz zu)                              \n",
       "\n",
       "    Inhalte und Ablauf der Schulung [Die Quizrunden haben mir gefallen.]  \\\n",
       "0                          1 (trifft voll und ganz zu)                     \n",
       "1                                                    2                     \n",
       "2                                                    2                     \n",
       "3                          1 (trifft voll und ganz zu)                     \n",
       "4                          1 (trifft voll und ganz zu)                     \n",
       "..                                                 ...                     \n",
       "423                        1 (trifft voll und ganz zu)                     \n",
       "424                        1 (trifft voll und ganz zu)                     \n",
       "425                                                  2                     \n",
       "426                                                  2                     \n",
       "427                        1 (trifft voll und ganz zu)                     \n",
       "\n",
       "    Der Anspruch war für mich... Die Dauer der Schulung war für mich...  \\\n",
       "0                 gerade richtig                         gerade richtig   \n",
       "1                 gerade richtig                         gerade richtig   \n",
       "2                 gerade richtig                         gerade richtig   \n",
       "3                 gerade richtig                                zu lang   \n",
       "4                 gerade richtig                         gerade richtig   \n",
       "..                           ...                                    ...   \n",
       "423                    zu leicht                         gerade richtig   \n",
       "424               gerade richtig                         gerade richtig   \n",
       "425               gerade richtig                                zu lang   \n",
       "426              bitte auswählen                        bitte auswählen   \n",
       "427               gerade richtig                         gerade richtig   \n",
       "\n",
       "     Hier können Sie uns eine Note geben.   \\\n",
       "0                                      6.0   \n",
       "1                                      1.0   \n",
       "2                                      1.0   \n",
       "3                                      2.0   \n",
       "4                                      1.0   \n",
       "..                                     ...   \n",
       "423                                    3.0   \n",
       "424                                    2.0   \n",
       "425                                    3.0   \n",
       "426                                    2.0   \n",
       "427                                    2.0   \n",
       "\n",
       "                 Wollen Sie uns noch etwas mitteilen?   \\\n",
       "0                                                  NaN   \n",
       "1                                                  NaN   \n",
       "2                                                  NaN   \n",
       "3                                                  NaN   \n",
       "4                                     Nettes Personal!   \n",
       "..                                                 ...   \n",
       "423                                                 \\n   \n",
       "424                                                NaN   \n",
       "425  Etwas zu langweilig und das Publikum sollte me...   \n",
       "426                                                NaN   \n",
       "427                                                NaN   \n",
       "\n",
       "    Das fand ich für mich besonders wichtig! [Informationen zur Datenbank Statista]  \n",
       "0                          1 (trifft voll und ganz zu)                               \n",
       "1                          1 (trifft voll und ganz zu)                               \n",
       "2                          1 (trifft voll und ganz zu)                               \n",
       "3                                                    3                               \n",
       "4                          1 (trifft voll und ganz zu)                               \n",
       "..                                                 ...                               \n",
       "423                        1 (trifft voll und ganz zu)                               \n",
       "424                        1 (trifft voll und ganz zu)                               \n",
       "425                                                  3                               \n",
       "426                                                  2                               \n",
       "427                                                  2                               \n",
       "\n",
       "[428 rows x 19 columns]"
      ]
     },
     "execution_count": 2,
     "metadata": {},
     "output_type": "execute_result"
    }
   ],
   "source": [
    "df"
   ]
  },
  {
   "cell_type": "markdown",
   "id": "9c5498a8",
   "metadata": {},
   "source": [
    "## Tabelle bereinigen"
   ]
  },
  {
   "cell_type": "code",
   "execution_count": 3,
   "id": "e2d344a9",
   "metadata": {},
   "outputs": [],
   "source": [
    "df_1 = df.drop('Inhalte und Ablauf der Schulung [Das selbständige Arbeiten mit Moodle hat mir gefallen.]', axis=1)\n",
    "df_2 = df_1.drop('Das fand ich für mich besonders wichtig! [Übungen zur Datenbank Statista]', axis=1)"
   ]
  },
  {
   "cell_type": "code",
   "execution_count": 4,
   "id": "48f35794",
   "metadata": {},
   "outputs": [
    {
     "data": {
      "text/html": [
       "<div>\n",
       "<style scoped>\n",
       "    .dataframe tbody tr th:only-of-type {\n",
       "        vertical-align: middle;\n",
       "    }\n",
       "\n",
       "    .dataframe tbody tr th {\n",
       "        vertical-align: top;\n",
       "    }\n",
       "\n",
       "    .dataframe thead th {\n",
       "        text-align: right;\n",
       "    }\n",
       "</style>\n",
       "<table border=\"1\" class=\"dataframe\">\n",
       "  <thead>\n",
       "    <tr style=\"text-align: right;\">\n",
       "      <th></th>\n",
       "      <th>Zeitstempel</th>\n",
       "      <th>Lernerfolg [Ich kann ein Buch zu einem Thema im Katalog plus der BLB finden und ausleihen.]</th>\n",
       "      <th>Lernerfolg [Ich kann einen Artikel zu einem Thema im Katalog plus der BLB finden.]</th>\n",
       "      <th>Lernerfolg [Ich finde mich im Gebäude der BLB zurecht.]</th>\n",
       "      <th>Lernerfolg [Was ich in dieser Schulung gelernt habe, ist für mich nützlich.]</th>\n",
       "      <th>Das fand ich für mich besonders wichtig! [Tipps zum Finden von Suchbegriffen mit dem Brockhaus]</th>\n",
       "      <th>Das fand ich für mich besonders wichtig! [Finden von Büchern &amp; Artikeln]</th>\n",
       "      <th>Das fand ich für mich besonders wichtig! [Rundgang durch die Bibliothek]</th>\n",
       "      <th>Das fand ich für mich besonders wichtig! [Alles rund um Ausleihe und Benutzerkonto]</th>\n",
       "      <th>Inhalte und Ablauf der Schulung [Der Ablauf der Schulung war für mich nachvollziehbar.]</th>\n",
       "      <th>Inhalte und Ablauf der Schulung [Die Aufgaben waren verständlich formuliert.]</th>\n",
       "      <th>Inhalte und Ablauf der Schulung [Die Quizrunden haben mir gefallen.]</th>\n",
       "      <th>Der Anspruch war für mich...</th>\n",
       "      <th>Die Dauer der Schulung war für mich...</th>\n",
       "      <th>Hier können Sie uns eine Note geben.</th>\n",
       "      <th>Wollen Sie uns noch etwas mitteilen?</th>\n",
       "      <th>Das fand ich für mich besonders wichtig! [Informationen zur Datenbank Statista]</th>\n",
       "    </tr>\n",
       "  </thead>\n",
       "  <tbody>\n",
       "    <tr>\n",
       "      <th>0</th>\n",
       "      <td>10.01.2023 11:02:55</td>\n",
       "      <td>1 (trifft voll und ganz zu)</td>\n",
       "      <td>1 (trifft voll und ganz zu)</td>\n",
       "      <td>2</td>\n",
       "      <td>1 (trifft voll und ganz zu)</td>\n",
       "      <td>2</td>\n",
       "      <td>1 (trifft voll und ganz zu)</td>\n",
       "      <td>1 (trifft voll und ganz zu)</td>\n",
       "      <td>2</td>\n",
       "      <td>1 (trifft voll und ganz zu)</td>\n",
       "      <td>1 (trifft voll und ganz zu)</td>\n",
       "      <td>1 (trifft voll und ganz zu)</td>\n",
       "      <td>gerade richtig</td>\n",
       "      <td>gerade richtig</td>\n",
       "      <td>6.0</td>\n",
       "      <td>NaN</td>\n",
       "      <td>1 (trifft voll und ganz zu)</td>\n",
       "    </tr>\n",
       "    <tr>\n",
       "      <th>1</th>\n",
       "      <td>10.01.2023 11:03:21</td>\n",
       "      <td>1 (trifft voll und ganz zu)</td>\n",
       "      <td>1 (trifft voll und ganz zu)</td>\n",
       "      <td>2</td>\n",
       "      <td>1 (trifft voll und ganz zu)</td>\n",
       "      <td>2</td>\n",
       "      <td>1 (trifft voll und ganz zu)</td>\n",
       "      <td>1 (trifft voll und ganz zu)</td>\n",
       "      <td>2</td>\n",
       "      <td>1 (trifft voll und ganz zu)</td>\n",
       "      <td>1 (trifft voll und ganz zu)</td>\n",
       "      <td>2</td>\n",
       "      <td>gerade richtig</td>\n",
       "      <td>gerade richtig</td>\n",
       "      <td>1.0</td>\n",
       "      <td>NaN</td>\n",
       "      <td>1 (trifft voll und ganz zu)</td>\n",
       "    </tr>\n",
       "    <tr>\n",
       "      <th>2</th>\n",
       "      <td>10.01.2023 11:03:59</td>\n",
       "      <td>2</td>\n",
       "      <td>1 (trifft voll und ganz zu)</td>\n",
       "      <td>2</td>\n",
       "      <td>1 (trifft voll und ganz zu)</td>\n",
       "      <td>3</td>\n",
       "      <td>2</td>\n",
       "      <td>1 (trifft voll und ganz zu)</td>\n",
       "      <td>1 (trifft voll und ganz zu)</td>\n",
       "      <td>1 (trifft voll und ganz zu)</td>\n",
       "      <td>1 (trifft voll und ganz zu)</td>\n",
       "      <td>2</td>\n",
       "      <td>gerade richtig</td>\n",
       "      <td>gerade richtig</td>\n",
       "      <td>1.0</td>\n",
       "      <td>NaN</td>\n",
       "      <td>1 (trifft voll und ganz zu)</td>\n",
       "    </tr>\n",
       "    <tr>\n",
       "      <th>3</th>\n",
       "      <td>10.01.2023 11:04:19</td>\n",
       "      <td>2</td>\n",
       "      <td>2</td>\n",
       "      <td>2</td>\n",
       "      <td>3</td>\n",
       "      <td>2</td>\n",
       "      <td>2</td>\n",
       "      <td>2</td>\n",
       "      <td>2</td>\n",
       "      <td>2</td>\n",
       "      <td>1 (trifft voll und ganz zu)</td>\n",
       "      <td>1 (trifft voll und ganz zu)</td>\n",
       "      <td>gerade richtig</td>\n",
       "      <td>zu lang</td>\n",
       "      <td>2.0</td>\n",
       "      <td>NaN</td>\n",
       "      <td>3</td>\n",
       "    </tr>\n",
       "    <tr>\n",
       "      <th>4</th>\n",
       "      <td>10.01.2023 11:04:31</td>\n",
       "      <td>1 (trifft voll und ganz zu)</td>\n",
       "      <td>1 (trifft voll und ganz zu)</td>\n",
       "      <td>2</td>\n",
       "      <td>1 (trifft voll und ganz zu)</td>\n",
       "      <td>2</td>\n",
       "      <td>1 (trifft voll und ganz zu)</td>\n",
       "      <td>1 (trifft voll und ganz zu)</td>\n",
       "      <td>1 (trifft voll und ganz zu)</td>\n",
       "      <td>1 (trifft voll und ganz zu)</td>\n",
       "      <td>2</td>\n",
       "      <td>1 (trifft voll und ganz zu)</td>\n",
       "      <td>gerade richtig</td>\n",
       "      <td>gerade richtig</td>\n",
       "      <td>1.0</td>\n",
       "      <td>Nettes Personal!</td>\n",
       "      <td>1 (trifft voll und ganz zu)</td>\n",
       "    </tr>\n",
       "    <tr>\n",
       "      <th>...</th>\n",
       "      <td>...</td>\n",
       "      <td>...</td>\n",
       "      <td>...</td>\n",
       "      <td>...</td>\n",
       "      <td>...</td>\n",
       "      <td>...</td>\n",
       "      <td>...</td>\n",
       "      <td>...</td>\n",
       "      <td>...</td>\n",
       "      <td>...</td>\n",
       "      <td>...</td>\n",
       "      <td>...</td>\n",
       "      <td>...</td>\n",
       "      <td>...</td>\n",
       "      <td>...</td>\n",
       "      <td>...</td>\n",
       "      <td>...</td>\n",
       "    </tr>\n",
       "    <tr>\n",
       "      <th>423</th>\n",
       "      <td>05.07.2023 11:38:51</td>\n",
       "      <td>2</td>\n",
       "      <td>2</td>\n",
       "      <td>1 (trifft voll und ganz zu)</td>\n",
       "      <td>2</td>\n",
       "      <td>2</td>\n",
       "      <td>2</td>\n",
       "      <td>1 (trifft voll und ganz zu)</td>\n",
       "      <td>3</td>\n",
       "      <td>3</td>\n",
       "      <td>2</td>\n",
       "      <td>1 (trifft voll und ganz zu)</td>\n",
       "      <td>zu leicht</td>\n",
       "      <td>gerade richtig</td>\n",
       "      <td>3.0</td>\n",
       "      <td>\\n</td>\n",
       "      <td>1 (trifft voll und ganz zu)</td>\n",
       "    </tr>\n",
       "    <tr>\n",
       "      <th>424</th>\n",
       "      <td>05.07.2023 11:39:22</td>\n",
       "      <td>1 (trifft voll und ganz zu)</td>\n",
       "      <td>2</td>\n",
       "      <td>1 (trifft voll und ganz zu)</td>\n",
       "      <td>1 (trifft voll und ganz zu)</td>\n",
       "      <td>2</td>\n",
       "      <td>1 (trifft voll und ganz zu)</td>\n",
       "      <td>2</td>\n",
       "      <td>1 (trifft voll und ganz zu)</td>\n",
       "      <td>1 (trifft voll und ganz zu)</td>\n",
       "      <td>1 (trifft voll und ganz zu)</td>\n",
       "      <td>1 (trifft voll und ganz zu)</td>\n",
       "      <td>gerade richtig</td>\n",
       "      <td>gerade richtig</td>\n",
       "      <td>2.0</td>\n",
       "      <td>NaN</td>\n",
       "      <td>1 (trifft voll und ganz zu)</td>\n",
       "    </tr>\n",
       "    <tr>\n",
       "      <th>425</th>\n",
       "      <td>05.07.2023 11:40:01</td>\n",
       "      <td>2</td>\n",
       "      <td>2</td>\n",
       "      <td>3</td>\n",
       "      <td>2</td>\n",
       "      <td>2</td>\n",
       "      <td>2</td>\n",
       "      <td>1 (trifft voll und ganz zu)</td>\n",
       "      <td>3</td>\n",
       "      <td>2</td>\n",
       "      <td>3</td>\n",
       "      <td>2</td>\n",
       "      <td>gerade richtig</td>\n",
       "      <td>zu lang</td>\n",
       "      <td>3.0</td>\n",
       "      <td>Etwas zu langweilig und das Publikum sollte me...</td>\n",
       "      <td>3</td>\n",
       "    </tr>\n",
       "    <tr>\n",
       "      <th>426</th>\n",
       "      <td>05.07.2023 11:40:19</td>\n",
       "      <td>1 (trifft voll und ganz zu)</td>\n",
       "      <td>2</td>\n",
       "      <td>2</td>\n",
       "      <td>2</td>\n",
       "      <td>2</td>\n",
       "      <td>1 (trifft voll und ganz zu)</td>\n",
       "      <td>2</td>\n",
       "      <td>1 (trifft voll und ganz zu)</td>\n",
       "      <td>3</td>\n",
       "      <td>2</td>\n",
       "      <td>2</td>\n",
       "      <td>bitte auswählen</td>\n",
       "      <td>bitte auswählen</td>\n",
       "      <td>2.0</td>\n",
       "      <td>NaN</td>\n",
       "      <td>2</td>\n",
       "    </tr>\n",
       "    <tr>\n",
       "      <th>427</th>\n",
       "      <td>07.07.2023 11:23:22</td>\n",
       "      <td>1 (trifft voll und ganz zu)</td>\n",
       "      <td>2</td>\n",
       "      <td>2</td>\n",
       "      <td>2</td>\n",
       "      <td>2</td>\n",
       "      <td>2</td>\n",
       "      <td>1 (trifft voll und ganz zu)</td>\n",
       "      <td>1 (trifft voll und ganz zu)</td>\n",
       "      <td>1 (trifft voll und ganz zu)</td>\n",
       "      <td>1 (trifft voll und ganz zu)</td>\n",
       "      <td>1 (trifft voll und ganz zu)</td>\n",
       "      <td>gerade richtig</td>\n",
       "      <td>gerade richtig</td>\n",
       "      <td>2.0</td>\n",
       "      <td>NaN</td>\n",
       "      <td>2</td>\n",
       "    </tr>\n",
       "  </tbody>\n",
       "</table>\n",
       "<p>428 rows × 17 columns</p>\n",
       "</div>"
      ],
      "text/plain": [
       "             Zeitstempel  \\\n",
       "0    10.01.2023 11:02:55   \n",
       "1    10.01.2023 11:03:21   \n",
       "2    10.01.2023 11:03:59   \n",
       "3    10.01.2023 11:04:19   \n",
       "4    10.01.2023 11:04:31   \n",
       "..                   ...   \n",
       "423  05.07.2023 11:38:51   \n",
       "424  05.07.2023 11:39:22   \n",
       "425  05.07.2023 11:40:01   \n",
       "426  05.07.2023 11:40:19   \n",
       "427  07.07.2023 11:23:22   \n",
       "\n",
       "    Lernerfolg [Ich kann ein Buch zu einem Thema im Katalog plus der BLB finden und ausleihen.]  \\\n",
       "0                          1 (trifft voll und ganz zu)                                            \n",
       "1                          1 (trifft voll und ganz zu)                                            \n",
       "2                                                    2                                            \n",
       "3                                                    2                                            \n",
       "4                          1 (trifft voll und ganz zu)                                            \n",
       "..                                                 ...                                            \n",
       "423                                                  2                                            \n",
       "424                        1 (trifft voll und ganz zu)                                            \n",
       "425                                                  2                                            \n",
       "426                        1 (trifft voll und ganz zu)                                            \n",
       "427                        1 (trifft voll und ganz zu)                                            \n",
       "\n",
       "    Lernerfolg [Ich kann einen Artikel zu einem Thema im Katalog plus der BLB finden.]  \\\n",
       "0                          1 (trifft voll und ganz zu)                                   \n",
       "1                          1 (trifft voll und ganz zu)                                   \n",
       "2                          1 (trifft voll und ganz zu)                                   \n",
       "3                                                    2                                   \n",
       "4                          1 (trifft voll und ganz zu)                                   \n",
       "..                                                 ...                                   \n",
       "423                                                  2                                   \n",
       "424                                                  2                                   \n",
       "425                                                  2                                   \n",
       "426                                                  2                                   \n",
       "427                                                  2                                   \n",
       "\n",
       "    Lernerfolg [Ich finde mich im Gebäude der BLB zurecht.]  \\\n",
       "0                                                    2        \n",
       "1                                                    2        \n",
       "2                                                    2        \n",
       "3                                                    2        \n",
       "4                                                    2        \n",
       "..                                                 ...        \n",
       "423                        1 (trifft voll und ganz zu)        \n",
       "424                        1 (trifft voll und ganz zu)        \n",
       "425                                                  3        \n",
       "426                                                  2        \n",
       "427                                                  2        \n",
       "\n",
       "    Lernerfolg [Was ich in dieser Schulung gelernt habe, ist für mich nützlich.]  \\\n",
       "0                          1 (trifft voll und ganz zu)                             \n",
       "1                          1 (trifft voll und ganz zu)                             \n",
       "2                          1 (trifft voll und ganz zu)                             \n",
       "3                                                    3                             \n",
       "4                          1 (trifft voll und ganz zu)                             \n",
       "..                                                 ...                             \n",
       "423                                                  2                             \n",
       "424                        1 (trifft voll und ganz zu)                             \n",
       "425                                                  2                             \n",
       "426                                                  2                             \n",
       "427                                                  2                             \n",
       "\n",
       "    Das fand ich für mich besonders wichtig! [Tipps zum Finden von Suchbegriffen mit dem Brockhaus]  \\\n",
       "0                                                    2                                                \n",
       "1                                                    2                                                \n",
       "2                                                    3                                                \n",
       "3                                                    2                                                \n",
       "4                                                    2                                                \n",
       "..                                                 ...                                                \n",
       "423                                                  2                                                \n",
       "424                                                  2                                                \n",
       "425                                                  2                                                \n",
       "426                                                  2                                                \n",
       "427                                                  2                                                \n",
       "\n",
       "    Das fand ich für mich besonders wichtig! [Finden von Büchern & Artikeln]  \\\n",
       "0                          1 (trifft voll und ganz zu)                         \n",
       "1                          1 (trifft voll und ganz zu)                         \n",
       "2                                                    2                         \n",
       "3                                                    2                         \n",
       "4                          1 (trifft voll und ganz zu)                         \n",
       "..                                                 ...                         \n",
       "423                                                  2                         \n",
       "424                        1 (trifft voll und ganz zu)                         \n",
       "425                                                  2                         \n",
       "426                        1 (trifft voll und ganz zu)                         \n",
       "427                                                  2                         \n",
       "\n",
       "    Das fand ich für mich besonders wichtig! [Rundgang durch die Bibliothek]  \\\n",
       "0                          1 (trifft voll und ganz zu)                         \n",
       "1                          1 (trifft voll und ganz zu)                         \n",
       "2                          1 (trifft voll und ganz zu)                         \n",
       "3                                                    2                         \n",
       "4                          1 (trifft voll und ganz zu)                         \n",
       "..                                                 ...                         \n",
       "423                        1 (trifft voll und ganz zu)                         \n",
       "424                                                  2                         \n",
       "425                        1 (trifft voll und ganz zu)                         \n",
       "426                                                  2                         \n",
       "427                        1 (trifft voll und ganz zu)                         \n",
       "\n",
       "    Das fand ich für mich besonders wichtig! [Alles rund um Ausleihe und Benutzerkonto]  \\\n",
       "0                                                    2                                    \n",
       "1                                                    2                                    \n",
       "2                          1 (trifft voll und ganz zu)                                    \n",
       "3                                                    2                                    \n",
       "4                          1 (trifft voll und ganz zu)                                    \n",
       "..                                                 ...                                    \n",
       "423                                                  3                                    \n",
       "424                        1 (trifft voll und ganz zu)                                    \n",
       "425                                                  3                                    \n",
       "426                        1 (trifft voll und ganz zu)                                    \n",
       "427                        1 (trifft voll und ganz zu)                                    \n",
       "\n",
       "    Inhalte und Ablauf der Schulung [Der Ablauf der Schulung war für mich nachvollziehbar.]  \\\n",
       "0                          1 (trifft voll und ganz zu)                                        \n",
       "1                          1 (trifft voll und ganz zu)                                        \n",
       "2                          1 (trifft voll und ganz zu)                                        \n",
       "3                                                    2                                        \n",
       "4                          1 (trifft voll und ganz zu)                                        \n",
       "..                                                 ...                                        \n",
       "423                                                  3                                        \n",
       "424                        1 (trifft voll und ganz zu)                                        \n",
       "425                                                  2                                        \n",
       "426                                                  3                                        \n",
       "427                        1 (trifft voll und ganz zu)                                        \n",
       "\n",
       "    Inhalte und Ablauf der Schulung [Die Aufgaben waren verständlich formuliert.]  \\\n",
       "0                          1 (trifft voll und ganz zu)                              \n",
       "1                          1 (trifft voll und ganz zu)                              \n",
       "2                          1 (trifft voll und ganz zu)                              \n",
       "3                          1 (trifft voll und ganz zu)                              \n",
       "4                                                    2                              \n",
       "..                                                 ...                              \n",
       "423                                                  2                              \n",
       "424                        1 (trifft voll und ganz zu)                              \n",
       "425                                                  3                              \n",
       "426                                                  2                              \n",
       "427                        1 (trifft voll und ganz zu)                              \n",
       "\n",
       "    Inhalte und Ablauf der Schulung [Die Quizrunden haben mir gefallen.]  \\\n",
       "0                          1 (trifft voll und ganz zu)                     \n",
       "1                                                    2                     \n",
       "2                                                    2                     \n",
       "3                          1 (trifft voll und ganz zu)                     \n",
       "4                          1 (trifft voll und ganz zu)                     \n",
       "..                                                 ...                     \n",
       "423                        1 (trifft voll und ganz zu)                     \n",
       "424                        1 (trifft voll und ganz zu)                     \n",
       "425                                                  2                     \n",
       "426                                                  2                     \n",
       "427                        1 (trifft voll und ganz zu)                     \n",
       "\n",
       "    Der Anspruch war für mich... Die Dauer der Schulung war für mich...  \\\n",
       "0                 gerade richtig                         gerade richtig   \n",
       "1                 gerade richtig                         gerade richtig   \n",
       "2                 gerade richtig                         gerade richtig   \n",
       "3                 gerade richtig                                zu lang   \n",
       "4                 gerade richtig                         gerade richtig   \n",
       "..                           ...                                    ...   \n",
       "423                    zu leicht                         gerade richtig   \n",
       "424               gerade richtig                         gerade richtig   \n",
       "425               gerade richtig                                zu lang   \n",
       "426              bitte auswählen                        bitte auswählen   \n",
       "427               gerade richtig                         gerade richtig   \n",
       "\n",
       "     Hier können Sie uns eine Note geben.   \\\n",
       "0                                      6.0   \n",
       "1                                      1.0   \n",
       "2                                      1.0   \n",
       "3                                      2.0   \n",
       "4                                      1.0   \n",
       "..                                     ...   \n",
       "423                                    3.0   \n",
       "424                                    2.0   \n",
       "425                                    3.0   \n",
       "426                                    2.0   \n",
       "427                                    2.0   \n",
       "\n",
       "                 Wollen Sie uns noch etwas mitteilen?   \\\n",
       "0                                                  NaN   \n",
       "1                                                  NaN   \n",
       "2                                                  NaN   \n",
       "3                                                  NaN   \n",
       "4                                     Nettes Personal!   \n",
       "..                                                 ...   \n",
       "423                                                 \\n   \n",
       "424                                                NaN   \n",
       "425  Etwas zu langweilig und das Publikum sollte me...   \n",
       "426                                                NaN   \n",
       "427                                                NaN   \n",
       "\n",
       "    Das fand ich für mich besonders wichtig! [Informationen zur Datenbank Statista]  \n",
       "0                          1 (trifft voll und ganz zu)                               \n",
       "1                          1 (trifft voll und ganz zu)                               \n",
       "2                          1 (trifft voll und ganz zu)                               \n",
       "3                                                    3                               \n",
       "4                          1 (trifft voll und ganz zu)                               \n",
       "..                                                 ...                               \n",
       "423                        1 (trifft voll und ganz zu)                               \n",
       "424                        1 (trifft voll und ganz zu)                               \n",
       "425                                                  3                               \n",
       "426                                                  2                               \n",
       "427                                                  2                               \n",
       "\n",
       "[428 rows x 17 columns]"
      ]
     },
     "execution_count": 4,
     "metadata": {},
     "output_type": "execute_result"
    }
   ],
   "source": [
    "df_2 #Tabelle ohne Spalte Moodle und Statistik. Die Fragen wurden von den Schülern nicht beantwortet, da diese noch auf ein altes Schulungskonzept basieren. Fragen zukünftig aus dem Feedbackformular löschen."
   ]
  },
  {
   "cell_type": "code",
   "execution_count": 5,
   "id": "12fcc1d7",
   "metadata": {},
   "outputs": [],
   "source": [
    "df_3 = df_2.replace(['1 (trifft voll und ganz zu)'], '1')  \n",
    "df_4 = df_3.replace(['4 (trifft überhaupt nicht zu)'], '4')"
   ]
  },
  {
   "cell_type": "code",
   "execution_count": 6,
   "id": "c4fa6f41",
   "metadata": {},
   "outputs": [
    {
     "data": {
      "text/html": [
       "<div>\n",
       "<style scoped>\n",
       "    .dataframe tbody tr th:only-of-type {\n",
       "        vertical-align: middle;\n",
       "    }\n",
       "\n",
       "    .dataframe tbody tr th {\n",
       "        vertical-align: top;\n",
       "    }\n",
       "\n",
       "    .dataframe thead th {\n",
       "        text-align: right;\n",
       "    }\n",
       "</style>\n",
       "<table border=\"1\" class=\"dataframe\">\n",
       "  <thead>\n",
       "    <tr style=\"text-align: right;\">\n",
       "      <th></th>\n",
       "      <th>Zeitstempel</th>\n",
       "      <th>Lernerfolg [Ich kann ein Buch zu einem Thema im Katalog plus der BLB finden und ausleihen.]</th>\n",
       "      <th>Lernerfolg [Ich kann einen Artikel zu einem Thema im Katalog plus der BLB finden.]</th>\n",
       "      <th>Lernerfolg [Ich finde mich im Gebäude der BLB zurecht.]</th>\n",
       "      <th>Lernerfolg [Was ich in dieser Schulung gelernt habe, ist für mich nützlich.]</th>\n",
       "      <th>Das fand ich für mich besonders wichtig! [Tipps zum Finden von Suchbegriffen mit dem Brockhaus]</th>\n",
       "      <th>Das fand ich für mich besonders wichtig! [Finden von Büchern &amp; Artikeln]</th>\n",
       "      <th>Das fand ich für mich besonders wichtig! [Rundgang durch die Bibliothek]</th>\n",
       "      <th>Das fand ich für mich besonders wichtig! [Alles rund um Ausleihe und Benutzerkonto]</th>\n",
       "      <th>Inhalte und Ablauf der Schulung [Der Ablauf der Schulung war für mich nachvollziehbar.]</th>\n",
       "      <th>Inhalte und Ablauf der Schulung [Die Aufgaben waren verständlich formuliert.]</th>\n",
       "      <th>Inhalte und Ablauf der Schulung [Die Quizrunden haben mir gefallen.]</th>\n",
       "      <th>Der Anspruch war für mich...</th>\n",
       "      <th>Die Dauer der Schulung war für mich...</th>\n",
       "      <th>Hier können Sie uns eine Note geben.</th>\n",
       "      <th>Wollen Sie uns noch etwas mitteilen?</th>\n",
       "      <th>Das fand ich für mich besonders wichtig! [Informationen zur Datenbank Statista]</th>\n",
       "    </tr>\n",
       "  </thead>\n",
       "  <tbody>\n",
       "    <tr>\n",
       "      <th>0</th>\n",
       "      <td>10.01.2023 11:02:55</td>\n",
       "      <td>1</td>\n",
       "      <td>1</td>\n",
       "      <td>2</td>\n",
       "      <td>1</td>\n",
       "      <td>2</td>\n",
       "      <td>1</td>\n",
       "      <td>1</td>\n",
       "      <td>2</td>\n",
       "      <td>1</td>\n",
       "      <td>1</td>\n",
       "      <td>1</td>\n",
       "      <td>gerade richtig</td>\n",
       "      <td>gerade richtig</td>\n",
       "      <td>6.0</td>\n",
       "      <td>NaN</td>\n",
       "      <td>1</td>\n",
       "    </tr>\n",
       "    <tr>\n",
       "      <th>1</th>\n",
       "      <td>10.01.2023 11:03:21</td>\n",
       "      <td>1</td>\n",
       "      <td>1</td>\n",
       "      <td>2</td>\n",
       "      <td>1</td>\n",
       "      <td>2</td>\n",
       "      <td>1</td>\n",
       "      <td>1</td>\n",
       "      <td>2</td>\n",
       "      <td>1</td>\n",
       "      <td>1</td>\n",
       "      <td>2</td>\n",
       "      <td>gerade richtig</td>\n",
       "      <td>gerade richtig</td>\n",
       "      <td>1.0</td>\n",
       "      <td>NaN</td>\n",
       "      <td>1</td>\n",
       "    </tr>\n",
       "    <tr>\n",
       "      <th>2</th>\n",
       "      <td>10.01.2023 11:03:59</td>\n",
       "      <td>2</td>\n",
       "      <td>1</td>\n",
       "      <td>2</td>\n",
       "      <td>1</td>\n",
       "      <td>3</td>\n",
       "      <td>2</td>\n",
       "      <td>1</td>\n",
       "      <td>1</td>\n",
       "      <td>1</td>\n",
       "      <td>1</td>\n",
       "      <td>2</td>\n",
       "      <td>gerade richtig</td>\n",
       "      <td>gerade richtig</td>\n",
       "      <td>1.0</td>\n",
       "      <td>NaN</td>\n",
       "      <td>1</td>\n",
       "    </tr>\n",
       "    <tr>\n",
       "      <th>3</th>\n",
       "      <td>10.01.2023 11:04:19</td>\n",
       "      <td>2</td>\n",
       "      <td>2</td>\n",
       "      <td>2</td>\n",
       "      <td>3</td>\n",
       "      <td>2</td>\n",
       "      <td>2</td>\n",
       "      <td>2</td>\n",
       "      <td>2</td>\n",
       "      <td>2</td>\n",
       "      <td>1</td>\n",
       "      <td>1</td>\n",
       "      <td>gerade richtig</td>\n",
       "      <td>zu lang</td>\n",
       "      <td>2.0</td>\n",
       "      <td>NaN</td>\n",
       "      <td>3</td>\n",
       "    </tr>\n",
       "    <tr>\n",
       "      <th>4</th>\n",
       "      <td>10.01.2023 11:04:31</td>\n",
       "      <td>1</td>\n",
       "      <td>1</td>\n",
       "      <td>2</td>\n",
       "      <td>1</td>\n",
       "      <td>2</td>\n",
       "      <td>1</td>\n",
       "      <td>1</td>\n",
       "      <td>1</td>\n",
       "      <td>1</td>\n",
       "      <td>2</td>\n",
       "      <td>1</td>\n",
       "      <td>gerade richtig</td>\n",
       "      <td>gerade richtig</td>\n",
       "      <td>1.0</td>\n",
       "      <td>Nettes Personal!</td>\n",
       "      <td>1</td>\n",
       "    </tr>\n",
       "    <tr>\n",
       "      <th>...</th>\n",
       "      <td>...</td>\n",
       "      <td>...</td>\n",
       "      <td>...</td>\n",
       "      <td>...</td>\n",
       "      <td>...</td>\n",
       "      <td>...</td>\n",
       "      <td>...</td>\n",
       "      <td>...</td>\n",
       "      <td>...</td>\n",
       "      <td>...</td>\n",
       "      <td>...</td>\n",
       "      <td>...</td>\n",
       "      <td>...</td>\n",
       "      <td>...</td>\n",
       "      <td>...</td>\n",
       "      <td>...</td>\n",
       "      <td>...</td>\n",
       "    </tr>\n",
       "    <tr>\n",
       "      <th>423</th>\n",
       "      <td>05.07.2023 11:38:51</td>\n",
       "      <td>2</td>\n",
       "      <td>2</td>\n",
       "      <td>1</td>\n",
       "      <td>2</td>\n",
       "      <td>2</td>\n",
       "      <td>2</td>\n",
       "      <td>1</td>\n",
       "      <td>3</td>\n",
       "      <td>3</td>\n",
       "      <td>2</td>\n",
       "      <td>1</td>\n",
       "      <td>zu leicht</td>\n",
       "      <td>gerade richtig</td>\n",
       "      <td>3.0</td>\n",
       "      <td>\\n</td>\n",
       "      <td>1</td>\n",
       "    </tr>\n",
       "    <tr>\n",
       "      <th>424</th>\n",
       "      <td>05.07.2023 11:39:22</td>\n",
       "      <td>1</td>\n",
       "      <td>2</td>\n",
       "      <td>1</td>\n",
       "      <td>1</td>\n",
       "      <td>2</td>\n",
       "      <td>1</td>\n",
       "      <td>2</td>\n",
       "      <td>1</td>\n",
       "      <td>1</td>\n",
       "      <td>1</td>\n",
       "      <td>1</td>\n",
       "      <td>gerade richtig</td>\n",
       "      <td>gerade richtig</td>\n",
       "      <td>2.0</td>\n",
       "      <td>NaN</td>\n",
       "      <td>1</td>\n",
       "    </tr>\n",
       "    <tr>\n",
       "      <th>425</th>\n",
       "      <td>05.07.2023 11:40:01</td>\n",
       "      <td>2</td>\n",
       "      <td>2</td>\n",
       "      <td>3</td>\n",
       "      <td>2</td>\n",
       "      <td>2</td>\n",
       "      <td>2</td>\n",
       "      <td>1</td>\n",
       "      <td>3</td>\n",
       "      <td>2</td>\n",
       "      <td>3</td>\n",
       "      <td>2</td>\n",
       "      <td>gerade richtig</td>\n",
       "      <td>zu lang</td>\n",
       "      <td>3.0</td>\n",
       "      <td>Etwas zu langweilig und das Publikum sollte me...</td>\n",
       "      <td>3</td>\n",
       "    </tr>\n",
       "    <tr>\n",
       "      <th>426</th>\n",
       "      <td>05.07.2023 11:40:19</td>\n",
       "      <td>1</td>\n",
       "      <td>2</td>\n",
       "      <td>2</td>\n",
       "      <td>2</td>\n",
       "      <td>2</td>\n",
       "      <td>1</td>\n",
       "      <td>2</td>\n",
       "      <td>1</td>\n",
       "      <td>3</td>\n",
       "      <td>2</td>\n",
       "      <td>2</td>\n",
       "      <td>bitte auswählen</td>\n",
       "      <td>bitte auswählen</td>\n",
       "      <td>2.0</td>\n",
       "      <td>NaN</td>\n",
       "      <td>2</td>\n",
       "    </tr>\n",
       "    <tr>\n",
       "      <th>427</th>\n",
       "      <td>07.07.2023 11:23:22</td>\n",
       "      <td>1</td>\n",
       "      <td>2</td>\n",
       "      <td>2</td>\n",
       "      <td>2</td>\n",
       "      <td>2</td>\n",
       "      <td>2</td>\n",
       "      <td>1</td>\n",
       "      <td>1</td>\n",
       "      <td>1</td>\n",
       "      <td>1</td>\n",
       "      <td>1</td>\n",
       "      <td>gerade richtig</td>\n",
       "      <td>gerade richtig</td>\n",
       "      <td>2.0</td>\n",
       "      <td>NaN</td>\n",
       "      <td>2</td>\n",
       "    </tr>\n",
       "  </tbody>\n",
       "</table>\n",
       "<p>428 rows × 17 columns</p>\n",
       "</div>"
      ],
      "text/plain": [
       "             Zeitstempel  \\\n",
       "0    10.01.2023 11:02:55   \n",
       "1    10.01.2023 11:03:21   \n",
       "2    10.01.2023 11:03:59   \n",
       "3    10.01.2023 11:04:19   \n",
       "4    10.01.2023 11:04:31   \n",
       "..                   ...   \n",
       "423  05.07.2023 11:38:51   \n",
       "424  05.07.2023 11:39:22   \n",
       "425  05.07.2023 11:40:01   \n",
       "426  05.07.2023 11:40:19   \n",
       "427  07.07.2023 11:23:22   \n",
       "\n",
       "    Lernerfolg [Ich kann ein Buch zu einem Thema im Katalog plus der BLB finden und ausleihen.]  \\\n",
       "0                                                    1                                            \n",
       "1                                                    1                                            \n",
       "2                                                    2                                            \n",
       "3                                                    2                                            \n",
       "4                                                    1                                            \n",
       "..                                                 ...                                            \n",
       "423                                                  2                                            \n",
       "424                                                  1                                            \n",
       "425                                                  2                                            \n",
       "426                                                  1                                            \n",
       "427                                                  1                                            \n",
       "\n",
       "    Lernerfolg [Ich kann einen Artikel zu einem Thema im Katalog plus der BLB finden.]  \\\n",
       "0                                                    1                                   \n",
       "1                                                    1                                   \n",
       "2                                                    1                                   \n",
       "3                                                    2                                   \n",
       "4                                                    1                                   \n",
       "..                                                 ...                                   \n",
       "423                                                  2                                   \n",
       "424                                                  2                                   \n",
       "425                                                  2                                   \n",
       "426                                                  2                                   \n",
       "427                                                  2                                   \n",
       "\n",
       "    Lernerfolg [Ich finde mich im Gebäude der BLB zurecht.]  \\\n",
       "0                                                    2        \n",
       "1                                                    2        \n",
       "2                                                    2        \n",
       "3                                                    2        \n",
       "4                                                    2        \n",
       "..                                                 ...        \n",
       "423                                                  1        \n",
       "424                                                  1        \n",
       "425                                                  3        \n",
       "426                                                  2        \n",
       "427                                                  2        \n",
       "\n",
       "    Lernerfolg [Was ich in dieser Schulung gelernt habe, ist für mich nützlich.]  \\\n",
       "0                                                    1                             \n",
       "1                                                    1                             \n",
       "2                                                    1                             \n",
       "3                                                    3                             \n",
       "4                                                    1                             \n",
       "..                                                 ...                             \n",
       "423                                                  2                             \n",
       "424                                                  1                             \n",
       "425                                                  2                             \n",
       "426                                                  2                             \n",
       "427                                                  2                             \n",
       "\n",
       "    Das fand ich für mich besonders wichtig! [Tipps zum Finden von Suchbegriffen mit dem Brockhaus]  \\\n",
       "0                                                    2                                                \n",
       "1                                                    2                                                \n",
       "2                                                    3                                                \n",
       "3                                                    2                                                \n",
       "4                                                    2                                                \n",
       "..                                                 ...                                                \n",
       "423                                                  2                                                \n",
       "424                                                  2                                                \n",
       "425                                                  2                                                \n",
       "426                                                  2                                                \n",
       "427                                                  2                                                \n",
       "\n",
       "    Das fand ich für mich besonders wichtig! [Finden von Büchern & Artikeln]  \\\n",
       "0                                                    1                         \n",
       "1                                                    1                         \n",
       "2                                                    2                         \n",
       "3                                                    2                         \n",
       "4                                                    1                         \n",
       "..                                                 ...                         \n",
       "423                                                  2                         \n",
       "424                                                  1                         \n",
       "425                                                  2                         \n",
       "426                                                  1                         \n",
       "427                                                  2                         \n",
       "\n",
       "    Das fand ich für mich besonders wichtig! [Rundgang durch die Bibliothek]  \\\n",
       "0                                                    1                         \n",
       "1                                                    1                         \n",
       "2                                                    1                         \n",
       "3                                                    2                         \n",
       "4                                                    1                         \n",
       "..                                                 ...                         \n",
       "423                                                  1                         \n",
       "424                                                  2                         \n",
       "425                                                  1                         \n",
       "426                                                  2                         \n",
       "427                                                  1                         \n",
       "\n",
       "    Das fand ich für mich besonders wichtig! [Alles rund um Ausleihe und Benutzerkonto]  \\\n",
       "0                                                    2                                    \n",
       "1                                                    2                                    \n",
       "2                                                    1                                    \n",
       "3                                                    2                                    \n",
       "4                                                    1                                    \n",
       "..                                                 ...                                    \n",
       "423                                                  3                                    \n",
       "424                                                  1                                    \n",
       "425                                                  3                                    \n",
       "426                                                  1                                    \n",
       "427                                                  1                                    \n",
       "\n",
       "    Inhalte und Ablauf der Schulung [Der Ablauf der Schulung war für mich nachvollziehbar.]  \\\n",
       "0                                                    1                                        \n",
       "1                                                    1                                        \n",
       "2                                                    1                                        \n",
       "3                                                    2                                        \n",
       "4                                                    1                                        \n",
       "..                                                 ...                                        \n",
       "423                                                  3                                        \n",
       "424                                                  1                                        \n",
       "425                                                  2                                        \n",
       "426                                                  3                                        \n",
       "427                                                  1                                        \n",
       "\n",
       "    Inhalte und Ablauf der Schulung [Die Aufgaben waren verständlich formuliert.]  \\\n",
       "0                                                    1                              \n",
       "1                                                    1                              \n",
       "2                                                    1                              \n",
       "3                                                    1                              \n",
       "4                                                    2                              \n",
       "..                                                 ...                              \n",
       "423                                                  2                              \n",
       "424                                                  1                              \n",
       "425                                                  3                              \n",
       "426                                                  2                              \n",
       "427                                                  1                              \n",
       "\n",
       "    Inhalte und Ablauf der Schulung [Die Quizrunden haben mir gefallen.]  \\\n",
       "0                                                    1                     \n",
       "1                                                    2                     \n",
       "2                                                    2                     \n",
       "3                                                    1                     \n",
       "4                                                    1                     \n",
       "..                                                 ...                     \n",
       "423                                                  1                     \n",
       "424                                                  1                     \n",
       "425                                                  2                     \n",
       "426                                                  2                     \n",
       "427                                                  1                     \n",
       "\n",
       "    Der Anspruch war für mich... Die Dauer der Schulung war für mich...  \\\n",
       "0                 gerade richtig                         gerade richtig   \n",
       "1                 gerade richtig                         gerade richtig   \n",
       "2                 gerade richtig                         gerade richtig   \n",
       "3                 gerade richtig                                zu lang   \n",
       "4                 gerade richtig                         gerade richtig   \n",
       "..                           ...                                    ...   \n",
       "423                    zu leicht                         gerade richtig   \n",
       "424               gerade richtig                         gerade richtig   \n",
       "425               gerade richtig                                zu lang   \n",
       "426              bitte auswählen                        bitte auswählen   \n",
       "427               gerade richtig                         gerade richtig   \n",
       "\n",
       "     Hier können Sie uns eine Note geben.   \\\n",
       "0                                      6.0   \n",
       "1                                      1.0   \n",
       "2                                      1.0   \n",
       "3                                      2.0   \n",
       "4                                      1.0   \n",
       "..                                     ...   \n",
       "423                                    3.0   \n",
       "424                                    2.0   \n",
       "425                                    3.0   \n",
       "426                                    2.0   \n",
       "427                                    2.0   \n",
       "\n",
       "                 Wollen Sie uns noch etwas mitteilen?   \\\n",
       "0                                                  NaN   \n",
       "1                                                  NaN   \n",
       "2                                                  NaN   \n",
       "3                                                  NaN   \n",
       "4                                     Nettes Personal!   \n",
       "..                                                 ...   \n",
       "423                                                 \\n   \n",
       "424                                                NaN   \n",
       "425  Etwas zu langweilig und das Publikum sollte me...   \n",
       "426                                                NaN   \n",
       "427                                                NaN   \n",
       "\n",
       "    Das fand ich für mich besonders wichtig! [Informationen zur Datenbank Statista]  \n",
       "0                                                    1                               \n",
       "1                                                    1                               \n",
       "2                                                    1                               \n",
       "3                                                    3                               \n",
       "4                                                    1                               \n",
       "..                                                 ...                               \n",
       "423                                                  1                               \n",
       "424                                                  1                               \n",
       "425                                                  3                               \n",
       "426                                                  2                               \n",
       "427                                                  2                               \n",
       "\n",
       "[428 rows x 17 columns]"
      ]
     },
     "execution_count": 6,
     "metadata": {},
     "output_type": "execute_result"
    }
   ],
   "source": [
    "df_4 \n",
    "#vereinheitliche Tabelle. Nur bei der Wertung 1 und 4 gab es einen erklärenden Text. Dieser wurde in der df_4 entfernt.\n",
    "# 1 = trifft voll und ganz zu ; 4 = trifft überhaubt nicht zu"
   ]
  },
  {
   "cell_type": "markdown",
   "id": "af148815",
   "metadata": {},
   "source": [
    "## Durchschnittsnote "
   ]
  },
  {
   "cell_type": "code",
   "execution_count": 7,
   "id": "07994838",
   "metadata": {},
   "outputs": [],
   "source": [
    "df_4['Hier können Sie uns eine Note geben. '] #Spalte hat ein Leerzeichen nach dem Punkt\n",
    "df_4.rename(columns = {'Hier können Sie uns eine Note geben. ':'Hier können Sie uns eine Note geben.'}, inplace = True) #Spalte umbennenen"
   ]
  },
  {
   "cell_type": "code",
   "execution_count": 8,
   "id": "95fced18",
   "metadata": {},
   "outputs": [
    {
     "data": {
      "text/plain": [
       "1.784037558685446"
      ]
     },
     "execution_count": 8,
     "metadata": {},
     "output_type": "execute_result"
    }
   ],
   "source": [
    "df_4['Hier können Sie uns eine Note geben.'].mean() #Durchschnittsnote der Schulungen"
   ]
  },
  {
   "cell_type": "code",
   "execution_count": 9,
   "id": "19eff65f",
   "metadata": {},
   "outputs": [
    {
     "data": {
      "text/plain": [
       "2.0    227\n",
       "1.0    155\n",
       "3.0     34\n",
       "4.0      5\n",
       "6.0      4\n",
       "5.0      1\n",
       "Name: Hier können Sie uns eine Note geben., dtype: int64"
      ]
     },
     "execution_count": 9,
     "metadata": {},
     "output_type": "execute_result"
    }
   ],
   "source": [
    "df_4['Hier können Sie uns eine Note geben.'].value_counts() #Häufigkeitsverteilung der Noten"
   ]
  },
  {
   "cell_type": "code",
   "execution_count": 10,
   "id": "9682f97e",
   "metadata": {},
   "outputs": [
    {
     "data": {
      "text/plain": [
       "2"
      ]
     },
     "execution_count": 10,
     "metadata": {},
     "output_type": "execute_result"
    }
   ],
   "source": [
    "df_4['Hier können Sie uns eine Note geben.'].isna().sum() #NaN-Werte in der Spalte zählen"
   ]
  },
  {
   "cell_type": "markdown",
   "id": "10153c97",
   "metadata": {},
   "source": [
    "---\n",
    "#### Die Durschschnittsnote der Schülerschulungen liegt bei 1,78.\n",
    "#### Die Note 2 wurde 227 ausgewählt und ist damit die am häufigsten gewählte Note. Am zweit häufigsten, 155 mal, wurde die Note eins vergeben. Note 3 wurde 34 mal vergeben. Note 5 ein mal und Note 6 vier mal.\n",
    "#### Von den 428 Feedbackformularen wurde zwei Mal keine Note vergeben.\n",
    "---"
   ]
  },
  {
   "cell_type": "code",
   "execution_count": 11,
   "id": "dd112b85",
   "metadata": {},
   "outputs": [],
   "source": [
    "# Eigene Farbpalette im Corporate Design der Badischen Landesbibliothek erstellen\n",
    "colors = ['#E3B56B', '#439D94', '#F2EA6E', '#96C8E2']\n",
    "sns.set_palette(sns.color_palette(colors))"
   ]
  },
  {
   "cell_type": "markdown",
   "id": "0be529b5",
   "metadata": {},
   "source": [
    "## Lernerfolg"
   ]
  },
  {
   "cell_type": "markdown",
   "id": "0c01db5f",
   "metadata": {},
   "source": [
    "### Ich kann ein Buch zu einem Thema im Katalog plus der BLB finden und ausleihen"
   ]
  },
  {
   "cell_type": "code",
   "execution_count": 12,
   "id": "bd040334",
   "metadata": {},
   "outputs": [
    {
     "data": {
      "text/plain": [
       "1    305\n",
       "2    113\n",
       "4      4\n",
       "3      4\n",
       "Name: Lernerfolg [Ich kann ein Buch zu einem Thema im Katalog plus der BLB finden und ausleihen.], dtype: int64"
      ]
     },
     "execution_count": 12,
     "metadata": {},
     "output_type": "execute_result"
    }
   ],
   "source": [
    "df_4['Lernerfolg [Ich kann ein Buch zu einem Thema im Katalog plus der BLB finden und ausleihen.]'].value_counts()"
   ]
  },
  {
   "cell_type": "code",
   "execution_count": 13,
   "id": "19817269",
   "metadata": {
    "scrolled": true
   },
   "outputs": [
    {
     "data": {
      "image/png": "[encoded data removed]",
      "text/plain": [
       "<Figure size 640x480 with 1 Axes>"
      ]
     },
     "metadata": {},
     "output_type": "display_data"
    }
   ],
   "source": [
    "katalogplus_bücher = sns.countplot(x='Lernerfolg [Ich kann ein Buch zu einem Thema im Katalog plus der BLB finden und ausleihen.]',\n",
    "data= df_4)\n",
    "katalogplus_bücher.set_xlabel( 'Ich kann ein Buch zu einem Thema im Katalog plus der BLB finden und ausleihen' , size = 12 ) \n",
    "katalogplus_bücher.set_ylabel( 'Anzahl' , size = 12 ) \n",
    "katalogplus_bücher.set_title( 'Katalog plus - Bücher finden' , size = 20)\n",
    "katalogplus_bücher.bar_label(katalogplus_bücher.containers[0], size = 10)\n",
    "plt.savefig(r'C:\\Users\\Anna-Leida\\OneDrive\\Desktop\\Zertifikatskurs_Projekt\\katalogplus_bücher.png')"
   ]
  },
  {
   "cell_type": "markdown",
   "id": "c1249d86",
   "metadata": {},
   "source": [
    "### Ich kann einen Artikel zu einem Thema im Katalog plus der BLB finden"
   ]
  },
  {
   "cell_type": "code",
   "execution_count": 14,
   "id": "e07aca68",
   "metadata": {},
   "outputs": [
    {
     "data": {
      "text/plain": [
       "1    296\n",
       "2    118\n",
       "3      7\n",
       "4      5\n",
       "Name: Lernerfolg [Ich kann einen Artikel zu einem Thema im Katalog plus der BLB finden.], dtype: int64"
      ]
     },
     "execution_count": 14,
     "metadata": {},
     "output_type": "execute_result"
    }
   ],
   "source": [
    "df_4['Lernerfolg [Ich kann einen Artikel zu einem Thema im Katalog plus der BLB finden.]'].value_counts()"
   ]
  },
  {
   "cell_type": "code",
   "execution_count": 15,
   "id": "5ec9fa4e",
   "metadata": {},
   "outputs": [
    {
     "data": {
      "image/png": "[encoded data removed]",
      "text/plain": [
       "<Figure size 640x480 with 1 Axes>"
      ]
     },
     "metadata": {},
     "output_type": "display_data"
    }
   ],
   "source": [
    "katalogplus_katalog = sns.countplot(x='Lernerfolg [Ich kann einen Artikel zu einem Thema im Katalog plus der BLB finden.]',\n",
    "data= df_4, order = df_4['Lernerfolg [Ich kann einen Artikel zu einem Thema im Katalog plus der BLB finden.]'].value_counts().index)\n",
    "katalogplus_katalog.set_xlabel( 'Ich kann einen Artikel zu einem Thema im Katalog plus der BLB finden' , size = 12 ) \n",
    "katalogplus_katalog.set_ylabel( 'Anzahl' , size = 12 ) \n",
    "katalogplus_katalog.set_title( 'Katalog plus - Artikel finden' , size = 20)\n",
    "katalogplus_katalog.bar_label(katalogplus_katalog.containers[0], size = 10)\n",
    "plt.savefig(r'C:\\Users\\Anna-Leida\\OneDrive\\Desktop\\Zertifikatskurs_Projekt\\katalogplus_katalog.png')"
   ]
  },
  {
   "cell_type": "markdown",
   "id": "8afb3128",
   "metadata": {},
   "source": [
    "### Ich finde mich im Gebäude der BLB zurecht"
   ]
  },
  {
   "cell_type": "code",
   "execution_count": 16,
   "id": "3b415869",
   "metadata": {},
   "outputs": [
    {
     "data": {
      "text/plain": [
       "2    194\n",
       "1    154\n",
       "3     70\n",
       "4      8\n",
       "Name: Lernerfolg [Ich finde mich im Gebäude der BLB zurecht.], dtype: int64"
      ]
     },
     "execution_count": 16,
     "metadata": {},
     "output_type": "execute_result"
    }
   ],
   "source": [
    "df_4['Lernerfolg [Ich finde mich im Gebäude der BLB zurecht.]'].value_counts()"
   ]
  },
  {
   "cell_type": "code",
   "execution_count": 17,
   "id": "7e21edd5",
   "metadata": {},
   "outputs": [
    {
     "data": {
      "image/png": "[encoded data removed]",
      "text/plain": [
       "<Figure size 640x480 with 1 Axes>"
      ]
     },
     "metadata": {},
     "output_type": "display_data"
    }
   ],
   "source": [
    "orientierung = sns.countplot(x='Lernerfolg [Ich finde mich im Gebäude der BLB zurecht.]',\n",
    "data= df_4, order = df_4['Lernerfolg [Ich finde mich im Gebäude der BLB zurecht.]'].value_counts().index)\n",
    "orientierung.set_xlabel( 'Ich finde mich im Gebäude der BLB zurecht' , size = 12 ) \n",
    "orientierung.set_ylabel( 'Anzahl' , size = 12 ) \n",
    "orientierung.set_title( 'Orientierung in der BLB' , size = 20)\n",
    "orientierung.bar_label(orientierung.containers[0], size = 10)\n",
    "plt.savefig(r'C:\\Users\\Anna-Leida\\OneDrive\\Desktop\\Zertifikatskurs_Projekt\\orientierung.png')"
   ]
  },
  {
   "cell_type": "markdown",
   "id": "27868d1b",
   "metadata": {},
   "source": [
    "### Was ich in dieser Schulung gelernt habe, ist für mich nützlich"
   ]
  },
  {
   "cell_type": "code",
   "execution_count": 18,
   "id": "268acb0c",
   "metadata": {},
   "outputs": [
    {
     "data": {
      "text/plain": [
       "1    283\n",
       "2    113\n",
       "3     23\n",
       "4      8\n",
       "Name: Lernerfolg [Was ich in dieser Schulung gelernt habe, ist für mich nützlich.], dtype: int64"
      ]
     },
     "execution_count": 18,
     "metadata": {},
     "output_type": "execute_result"
    }
   ],
   "source": [
    "df_4['Lernerfolg [Was ich in dieser Schulung gelernt habe, ist für mich nützlich.]'].value_counts()"
   ]
  },
  {
   "cell_type": "code",
   "execution_count": 19,
   "id": "6ac7420d",
   "metadata": {},
   "outputs": [
    {
     "data": {
      "image/png": "[encoded data removed]",
      "text/plain": [
       "<Figure size 640x480 with 1 Axes>"
      ]
     },
     "metadata": {},
     "output_type": "display_data"
    }
   ],
   "source": [
    "nutzen = sns.countplot(x='Lernerfolg [Was ich in dieser Schulung gelernt habe, ist für mich nützlich.]',\n",
    "data= df_4, order = df_4['Lernerfolg [Was ich in dieser Schulung gelernt habe, ist für mich nützlich.]'].value_counts().index)\n",
    "nutzen.set_xlabel( 'Was ich in dieser Schulung gelernt habe, ist für mich nützlich' , size = 12 ) \n",
    "nutzen.set_ylabel( 'Anzahl' , size = 12 ) \n",
    "nutzen.set_title( 'Nutzen' , size = 20)\n",
    "nutzen.bar_label(nutzen.containers[0], size = 10)\n",
    "plt.savefig(r'C:\\Users\\Anna-Leida\\OneDrive\\Desktop\\Zertifikatskurs_Projekt\\nutzen.png')"
   ]
  },
  {
   "cell_type": "markdown",
   "id": "2b1f3ead",
   "metadata": {},
   "source": [
    "## Wichtige Inhalte"
   ]
  },
  {
   "cell_type": "markdown",
   "id": "673a11ec",
   "metadata": {},
   "source": [
    "### Tipps zum Finden von Suchbegriffen mit dem Brockhaus"
   ]
  },
  {
   "cell_type": "code",
   "execution_count": 20,
   "id": "5967b005",
   "metadata": {},
   "outputs": [
    {
     "data": {
      "text/plain": [
       "2    169\n",
       "1    168\n",
       "3     65\n",
       "4     21\n",
       "Name: Das fand ich für mich besonders wichtig! [Tipps zum Finden von Suchbegriffen mit dem Brockhaus], dtype: int64"
      ]
     },
     "execution_count": 20,
     "metadata": {},
     "output_type": "execute_result"
    }
   ],
   "source": [
    "df_4['Das fand ich für mich besonders wichtig! [Tipps zum Finden von Suchbegriffen mit dem Brockhaus]'].value_counts()"
   ]
  },
  {
   "cell_type": "code",
   "execution_count": 21,
   "id": "12adb080",
   "metadata": {},
   "outputs": [
    {
     "data": {
      "image/png": "[encoded data removed]",
      "text/plain": [
       "<Figure size 640x480 with 1 Axes>"
      ]
     },
     "metadata": {},
     "output_type": "display_data"
    }
   ],
   "source": [
    "brockhaus = sns.countplot(x='Das fand ich für mich besonders wichtig! [Tipps zum Finden von Suchbegriffen mit dem Brockhaus]',\n",
    "data= df_4, order = df_4['Das fand ich für mich besonders wichtig! [Tipps zum Finden von Suchbegriffen mit dem Brockhaus]'].value_counts().index)\n",
    "brockhaus.set_xlabel( 'Tipps zum Finden von Suchbegriffen mit dem Brockhaus' , size = 12 ) \n",
    "brockhaus.set_ylabel( 'Anzahl' , size = 12 ) \n",
    "brockhaus.set_title( 'Brockhaus' , size = 20)\n",
    "brockhaus.bar_label(brockhaus.containers[0], size = 10)\n",
    "plt.savefig(r'C:\\Users\\Anna-Leida\\OneDrive\\Desktop\\Zertifikatskurs_Projekt\\brockhaus.png')"
   ]
  },
  {
   "cell_type": "markdown",
   "id": "1c011a20",
   "metadata": {},
   "source": [
    "### Finden von Büchern & Artikeln"
   ]
  },
  {
   "cell_type": "code",
   "execution_count": 22,
   "id": "eaa40593",
   "metadata": {},
   "outputs": [
    {
     "data": {
      "text/plain": [
       "1    289\n",
       "2    117\n",
       "3     14\n",
       "4      5\n",
       "Name: Das fand ich für mich besonders wichtig! [Finden von Büchern & Artikeln], dtype: int64"
      ]
     },
     "execution_count": 22,
     "metadata": {},
     "output_type": "execute_result"
    }
   ],
   "source": [
    "df_4['Das fand ich für mich besonders wichtig! [Finden von Büchern & Artikeln]'].value_counts()"
   ]
  },
  {
   "cell_type": "code",
   "execution_count": 23,
   "id": "fd92bad0",
   "metadata": {},
   "outputs": [
    {
     "data": {
      "image/png": "[encoded data removed]",
      "text/plain": [
       "<Figure size 640x480 with 1 Axes>"
      ]
     },
     "metadata": {},
     "output_type": "display_data"
    }
   ],
   "source": [
    "recherche = sns.countplot(x='Das fand ich für mich besonders wichtig! [Finden von Büchern & Artikeln]',\n",
    "data= df_4)\n",
    "recherche.set_xlabel( 'Finden von Büchern & Artikeln' , size = 12 ) \n",
    "recherche.set_ylabel( 'Anzahl' , size = 12 ) \n",
    "recherche.set_title( 'Recherche' , size = 20)\n",
    "recherche.bar_label(recherche.containers[0], size = 10)\n",
    "plt.savefig(r'C:\\Users\\Anna-Leida\\OneDrive\\Desktop\\Zertifikatskurs_Projekt\\recherche.png')"
   ]
  },
  {
   "cell_type": "markdown",
   "id": "6efeae28",
   "metadata": {},
   "source": [
    "### Rundgang durch die Bibliothek"
   ]
  },
  {
   "cell_type": "code",
   "execution_count": 24,
   "id": "8d61a6f0",
   "metadata": {},
   "outputs": [
    {
     "data": {
      "text/plain": [
       "1    251\n",
       "2    147\n",
       "3     22\n",
       "4      7\n",
       "Name: Das fand ich für mich besonders wichtig! [Rundgang durch die Bibliothek], dtype: int64"
      ]
     },
     "execution_count": 24,
     "metadata": {},
     "output_type": "execute_result"
    }
   ],
   "source": [
    "df_4['Das fand ich für mich besonders wichtig! [Rundgang durch die Bibliothek]'].value_counts()"
   ]
  },
  {
   "cell_type": "code",
   "execution_count": 25,
   "id": "6d860a4e",
   "metadata": {},
   "outputs": [
    {
     "data": {
      "image/png": "[encoded data removed]",
      "text/plain": [
       "<Figure size 640x480 with 1 Axes>"
      ]
     },
     "metadata": {},
     "output_type": "display_data"
    }
   ],
   "source": [
    "rundgang = sns.countplot(x='Das fand ich für mich besonders wichtig! [Rundgang durch die Bibliothek]',\n",
    "data= df_4)\n",
    "rundgang.set_xlabel( 'Rundgang durch die Bibliothek' , size = 12 ) \n",
    "rundgang.set_ylabel( 'Anzahl' , size = 12 ) \n",
    "rundgang.set_title( 'Rundgang' , size = 20)\n",
    "rundgang.bar_label(rundgang.containers[0], size = 10)\n",
    "plt.savefig(r'C:\\Users\\Anna-Leida\\OneDrive\\Desktop\\Zertifikatskurs_Projekt\\rundgang.png')"
   ]
  },
  {
   "cell_type": "markdown",
   "id": "968d5285",
   "metadata": {},
   "source": [
    "### Alles rund um Ausleihe und Benutzerkonto"
   ]
  },
  {
   "cell_type": "code",
   "execution_count": 26,
   "id": "a0747e2f",
   "metadata": {},
   "outputs": [
    {
     "data": {
      "text/plain": [
       "1    255\n",
       "2    132\n",
       "3     28\n",
       "4      9\n",
       "Name: Das fand ich für mich besonders wichtig! [Alles rund um Ausleihe und Benutzerkonto], dtype: int64"
      ]
     },
     "execution_count": 26,
     "metadata": {},
     "output_type": "execute_result"
    }
   ],
   "source": [
    "df_4['Das fand ich für mich besonders wichtig! [Alles rund um Ausleihe und Benutzerkonto]'].value_counts()"
   ]
  },
  {
   "cell_type": "code",
   "execution_count": 27,
   "id": "8a23268a",
   "metadata": {},
   "outputs": [
    {
     "data": {
      "image/png": "[encoded data removed]",
      "text/plain": [
       "<Figure size 640x480 with 1 Axes>"
      ]
     },
     "metadata": {},
     "output_type": "display_data"
    }
   ],
   "source": [
    "benutzerkonto = sns.countplot(x='Das fand ich für mich besonders wichtig! [Alles rund um Ausleihe und Benutzerkonto]',\n",
    "data= df_4, order = df_4['Das fand ich für mich besonders wichtig! [Alles rund um Ausleihe und Benutzerkonto]'].value_counts().index)\n",
    "benutzerkonto .set_xlabel( 'Alles rund um Ausleihe und Benutzerkonto', size = 12 ) \n",
    "benutzerkonto .set_ylabel( 'Anzahl' , size = 12 ) \n",
    "benutzerkonto .set_title( 'Benutzerkonto' , size = 20)\n",
    "benutzerkonto .bar_label(benutzerkonto .containers[0], size = 10)\n",
    "plt.savefig(r'C:\\Users\\Anna-Leida\\OneDrive\\Desktop\\Zertifikatskurs_Projekt\\benutzerkonto.png')"
   ]
  },
  {
   "cell_type": "markdown",
   "id": "55222c56",
   "metadata": {},
   "source": [
    "### Informationen zur Datenbank Statista"
   ]
  },
  {
   "cell_type": "code",
   "execution_count": 28,
   "id": "490fe286",
   "metadata": {},
   "outputs": [
    {
     "data": {
      "text/plain": [
       "1    260\n",
       "2    121\n",
       "3     36\n",
       "4      8\n",
       "Name: Das fand ich für mich besonders wichtig! [Informationen zur Datenbank Statista], dtype: int64"
      ]
     },
     "execution_count": 28,
     "metadata": {},
     "output_type": "execute_result"
    }
   ],
   "source": [
    "df_4['Das fand ich für mich besonders wichtig! [Informationen zur Datenbank Statista]'].value_counts()"
   ]
  },
  {
   "cell_type": "code",
   "execution_count": 29,
   "id": "0b1d8fe2",
   "metadata": {},
   "outputs": [
    {
     "data": {
      "image/png": "[encoded data removed]",
      "text/plain": [
       "<Figure size 640x480 with 1 Axes>"
      ]
     },
     "metadata": {},
     "output_type": "display_data"
    }
   ],
   "source": [
    "statista = sns.countplot(x='Das fand ich für mich besonders wichtig! [Informationen zur Datenbank Statista]',\n",
    "data= df_4, order = df_4['Das fand ich für mich besonders wichtig! [Informationen zur Datenbank Statista]'].value_counts().index)\n",
    "statista.set_xlabel( 'Informationen zur Datenbank Statista', size = 12 ) \n",
    "statista.set_ylabel( 'Anzahl' , size = 12 ) \n",
    "statista.set_title( 'Statista' , size = 20)\n",
    "statista.bar_label(statista.containers[0], size = 10)\n",
    "plt.savefig(r'C:\\Users\\Anna-Leida\\OneDrive\\Desktop\\Zertifikatskurs_Projekt\\statista.png')"
   ]
  },
  {
   "cell_type": "markdown",
   "id": "04ec2fa2",
   "metadata": {},
   "source": [
    "## Inhalt und Ablauf der Schulung"
   ]
  },
  {
   "cell_type": "markdown",
   "id": "05d19f7b",
   "metadata": {},
   "source": [
    "### Der Ablauf der Schulung war für mich nachvollziehbar"
   ]
  },
  {
   "cell_type": "code",
   "execution_count": 30,
   "id": "f2ea6577",
   "metadata": {},
   "outputs": [
    {
     "data": {
      "text/plain": [
       "gerade richtig     338\n",
       "zu leicht           64\n",
       "bitte auswählen      8\n",
       "zu schwer            4\n",
       "Name: Der Anspruch war für mich..., dtype: int64"
      ]
     },
     "execution_count": 30,
     "metadata": {},
     "output_type": "execute_result"
    }
   ],
   "source": [
    "df_4['Der Anspruch war für mich...'].value_counts()"
   ]
  },
  {
   "cell_type": "code",
   "execution_count": 31,
   "id": "d9f111f6",
   "metadata": {},
   "outputs": [
    {
     "data": {
      "image/png": "[encoded data removed]",
      "text/plain": [
       "<Figure size 640x480 with 1 Axes>"
      ]
     },
     "metadata": {},
     "output_type": "display_data"
    }
   ],
   "source": [
    "anspruch = sns.countplot(x='Der Anspruch war für mich...',\n",
    "data= df_4)\n",
    "anspruch.set_xlabel( 'Anspruch der Schulung', size = 12 ) \n",
    "anspruch.set_ylabel( 'Anzahl' , size = 12 ) \n",
    "anspruch.set_title( 'Anspruch' , size = 20)\n",
    "anspruch.bar_label(anspruch.containers[0], size = 10)\n",
    "plt.savefig(r'C:\\Users\\Anna-Leida\\OneDrive\\Desktop\\Zertifikatskurs_Projekt\\anspruch.png')"
   ]
  },
  {
   "cell_type": "markdown",
   "id": "efb61c48",
   "metadata": {},
   "source": [
    "### Die Aufgaben waren verständlich formuliert"
   ]
  },
  {
   "cell_type": "code",
   "execution_count": 32,
   "id": "c3a4392b",
   "metadata": {},
   "outputs": [
    {
     "data": {
      "text/plain": [
       "1    305\n",
       "2     94\n",
       "3     18\n",
       "4      6\n",
       "Name: Inhalte und Ablauf der Schulung [Die Aufgaben waren verständlich formuliert.], dtype: int64"
      ]
     },
     "execution_count": 32,
     "metadata": {},
     "output_type": "execute_result"
    }
   ],
   "source": [
    "df_4['Inhalte und Ablauf der Schulung [Die Aufgaben waren verständlich formuliert.]'].value_counts()"
   ]
  },
  {
   "cell_type": "code",
   "execution_count": 33,
   "id": "713986cc",
   "metadata": {},
   "outputs": [
    {
     "data": {
      "image/png": "[encoded data removed]",
      "text/plain": [
       "<Figure size 640x480 with 1 Axes>"
      ]
     },
     "metadata": {},
     "output_type": "display_data"
    }
   ],
   "source": [
    "aufgaben = sns.countplot(x='Inhalte und Ablauf der Schulung [Die Aufgaben waren verständlich formuliert.]',\n",
    "data= df_4)\n",
    "aufgaben.set_xlabel( 'Die Aufgaben waren verständlich formuliert', size = 12 ) \n",
    "aufgaben.set_ylabel( 'Anzahl' , size = 12 ) \n",
    "aufgaben.set_title( 'Aufgaben' , size = 20)\n",
    "aufgaben.bar_label(aufgaben.containers[0], size = 10)\n",
    "plt.savefig(r'C:\\Users\\Anna-Leida\\OneDrive\\Desktop\\Zertifikatskurs_Projekt\\aufgaben.png')"
   ]
  },
  {
   "cell_type": "markdown",
   "id": "bfe3fce4",
   "metadata": {},
   "source": [
    "### Die Quizrunden haben mir gefallen"
   ]
  },
  {
   "cell_type": "code",
   "execution_count": 34,
   "id": "ad08afc5",
   "metadata": {},
   "outputs": [
    {
     "data": {
      "text/plain": [
       "1    317\n",
       "2     74\n",
       "3     23\n",
       "4      9\n",
       "Name: Inhalte und Ablauf der Schulung [Die Quizrunden haben mir gefallen.], dtype: int64"
      ]
     },
     "execution_count": 34,
     "metadata": {},
     "output_type": "execute_result"
    }
   ],
   "source": [
    "df_4['Inhalte und Ablauf der Schulung [Die Quizrunden haben mir gefallen.]'].value_counts()"
   ]
  },
  {
   "cell_type": "code",
   "execution_count": 35,
   "id": "d57828a8",
   "metadata": {},
   "outputs": [
    {
     "data": {
      "image/png": "[encoded data removed]",
      "text/plain": [
       "<Figure size 640x480 with 1 Axes>"
      ]
     },
     "metadata": {},
     "output_type": "display_data"
    }
   ],
   "source": [
    "quizrunde = sns.countplot(x='Inhalte und Ablauf der Schulung [Die Quizrunden haben mir gefallen.]',\n",
    "data= df_4)\n",
    "quizrunde.set_xlabel( 'Die Quizrunden haben mir gefallen', size = 12 ) \n",
    "quizrunde.set_ylabel( 'Anzahl' , size = 12 ) \n",
    "quizrunde.set_title( 'Quizrunden' , size = 20)\n",
    "quizrunde.bar_label(quizrunde.containers[0], size = 10)\n",
    "plt.savefig(r'C:\\Users\\Anna-Leida\\OneDrive\\Desktop\\Zertifikatskurs_Projekt\\quizrunde.png')"
   ]
  },
  {
   "cell_type": "markdown",
   "id": "3384958a",
   "metadata": {},
   "source": [
    "### Dauer der Schulung"
   ]
  },
  {
   "cell_type": "code",
   "execution_count": 36,
   "id": "a59288f4",
   "metadata": {},
   "outputs": [
    {
     "data": {
      "text/plain": [
       "gerade richtig     322\n",
       "zu lang             72\n",
       "zu kurz             12\n",
       "bitte auswählen      7\n",
       "Name: Die Dauer der Schulung war für mich..., dtype: int64"
      ]
     },
     "execution_count": 36,
     "metadata": {},
     "output_type": "execute_result"
    }
   ],
   "source": [
    "df_4['Die Dauer der Schulung war für mich...'].value_counts()"
   ]
  },
  {
   "cell_type": "code",
   "execution_count": 37,
   "id": "905b6798",
   "metadata": {},
   "outputs": [
    {
     "data": {
      "image/png": "[encoded data removed]",
      "text/plain": [
       "<Figure size 640x480 with 1 Axes>"
      ]
     },
     "metadata": {},
     "output_type": "display_data"
    }
   ],
   "source": [
    "dauer = sns.countplot(x='Die Dauer der Schulung war für mich...',\n",
    "data= df_4, order = df_4['Die Dauer der Schulung war für mich...'].value_counts().index)\n",
    "dauer.set_xlabel( 'Dauer der Schulung', size = 12 ) \n",
    "dauer.set_ylabel( 'Anzahl' , size = 12 ) \n",
    "dauer.set_title( 'Dauer' , size = 20)\n",
    "dauer.bar_label(dauer.containers[0], size = 10)\n",
    "plt.savefig(r'C:\\Users\\Anna-Leida\\OneDrive\\Desktop\\Zertifikatskurs_Projekt\\dauer.png')"
   ]
  },
  {
   "cell_type": "markdown",
   "id": "d7a2afee",
   "metadata": {},
   "source": [
    "## Freitextfeld "
   ]
  },
  {
   "cell_type": "code",
   "execution_count": 38,
   "id": "eb386f01",
   "metadata": {},
   "outputs": [],
   "source": [
    "df_4.rename(columns = {'Wollen Sie uns noch etwas mitteilen? ':'Wollen Sie uns noch etwas mitteilen?'}, inplace = True) #Leerzeichen entfernen\n",
    "df_freitext = df_4.dropna(subset=['Wollen Sie uns noch etwas mitteilen?']) #Leerzeilen (NaN) entfernen"
   ]
  },
  {
   "cell_type": "code",
   "execution_count": 39,
   "id": "5edb23c1",
   "metadata": {},
   "outputs": [
    {
     "data": {
      "text/plain": [
       "4                                       Nettes Personal!\n",
       "7                                      schön vorbereitet\n",
       "9      Die Praktikantin war nett und die andere Frau ...\n",
       "10                                Es war sehr hilfreich.\n",
       "13                                                    NÖ\n",
       "14     Ich konnte keinen Bibliotheks-Ausweis erwerben...\n",
       "15     Die Schulung war interessant, bloß konnte ich ...\n",
       "16                                          Zu Wild Grrr\n",
       "22                                                    nö\n",
       "23                                            Ciao bella\n",
       "24                         wühlmaus knopfauge lange nase\n",
       "25                                            Super teil\n",
       "27                                                   gut\n",
       "28                                          war gut \\n\\n\n",
       "30                                               Gracias\n",
       "35                                                 Hallo\n",
       "40                                                war ok\n",
       "41                     Vielen Dank für die Einführung :)\n",
       "45                                                  nein\n",
       "47                                                    nö\n",
       "50                                                    :)\n",
       "51                                       hat uns gefreut\n",
       "53               Vergleichen der Aufgaben ging sehr lang\n",
       "55      Es war sehr interessant und informativ, danke :)\n",
       "56                                                  nein\n",
       "69     Es war sehr informativ und hilft mir in meinem...\n",
       "72     Ein längeren Rundgang wäre echt hilfreich um s...\n",
       "73                                                 döner\n",
       "74                                                 danke\n",
       "75     Bitte siezen Sie keine Kinder, jetzt fühl ich ...\n",
       "77              Das Siezen hat mich verwirrt, sonst gut.\n",
       "78                                     Moin und danke :)\n",
       "79                               sehr nice unterhaltung \n",
       "81                                              esspause\n",
       "85                                              jonathan\n",
       "86                                          Guten Rutsch\n",
       "89                                             danke! :)\n",
       "98                                  Sehr nette Beratung!\n",
       "100                                                    B\n",
       "101    Die Leiterin war sehr nett und hat uns das Klo...\n",
       "104                                                   nö\n",
       "106                                                 nein\n",
       "109                                          war stramm \n",
       "110    Bei Gruppe 3 Artikel anstatt Aufsätze in die F...\n",
       "112                                             war supi\n",
       "113    Die Frau Müller war eine sehr kompetente Anlei...\n",
       "115                                             Sheeeesh\n",
       "127                             ich bin micha aka markus\n",
       "129                                  gute arbeit kollege\n",
       "130    Die Schulung war sehr gut, ich werde in Zukunf...\n",
       "131                                           Dankeschön\n",
       "139                                                 nein\n",
       "154                 Es war sehr informativ! Vielen Dank!\n",
       "155                         freundlicher und mehr geduld\n",
       "156                                    es war schön hier\n",
       "157                                  Super toll erklärt.\n",
       "161                                        Meine Antwort\n",
       "162                Meine Antwort : 10/10 would recommend\n",
       "164                                            Sehr gut!\n",
       "170                           sehr interessant gestaltet\n",
       "171                                              lädt...\n",
       "172                                   Jo kann man machen\n",
       "173     Toiletten sind schwer zu finden und nicht sauber\n",
       "176                                             sehr gut\n",
       "180                                                 nein\n",
       "181    Sehr nettes Personal, tolles Online-Angebot, A...\n",
       "186                                       sauwa gschafft\n",
       "189                                                   nö\n",
       "192                             suuuuuper! gaaaanz toll!\n",
       "195                                     Sehr nette Dame.\n",
       "197      Nein, bleibt so wie ihr seid, hat alles gepasst\n",
       "202                      Im Großen und ganzen super toll\n",
       "203    schulung im allgemeinen war gut. zeit mäßig au...\n",
       "210                  Die Quizze haben mir sehr gefallen.\n",
       "211           Theoretischen Teil etwas kürzer gestalten.\n",
       "212    ich fands super langweilig und bin fast einges...\n",
       "214    Super Bibliothek die ich in der Zukunft bestim...\n",
       "217                            Frau Holy war total nett!\n",
       "218                 Haben Sie toll gemacht Frau Holy! :)\n",
       "219    Es hat mega gefallen! Habe es in Betracht nich...\n",
       "220    Durch die Schulung fühle ich mich für Präsenta...\n",
       "222                                           Dankeschön\n",
       "226                                     super gemacht ;)\n",
       "227             Die Moderatorin war sympathisch und cool\n",
       "234                              lieber kahoot als menti\n",
       "245                     Nein, dies möchte ich nicht tun.\n",
       "250                                                  ajo\n",
       "252                                                nein.\n",
       "253               Das meiste ist im Internet auffindbar \n",
       "256                                         wohl eher 2+\n",
       "264                                                   ne\n",
       "282    ich bedanke mich bei Ihnen für Ihre Mühe unnd ...\n",
       "285    Es war für mich ein Ehre, mich heute zur Präse...\n",
       "291                                     Sehr freundlich \n",
       "293                                  raucherpause bitte \n",
       "294    Sehr nette Atmosphäre, flüssiger und angenehme...\n",
       "295            super gemacht, weiter so ! VIELEN DANK :)\n",
       "298                                          es war gut \n",
       "309    Bitte statten Sie die Laptops in Zukunft mit e...\n",
       "310                                Als Lehrer begeistert\n",
       "315                                                   Nö\n",
       "319    Zettel, wo nochmal alles grob zusammengefasst ...\n",
       "322                   War sehr interessant und hilfreich\n",
       "323                Mit etwas mehr Energie präsentieren. \n",
       "326    Es sollte mehr Aufgaben zum Zurechtfinden im G...\n",
       "327    Die Besprechung der Gruppenaufträge war etwas ...\n",
       "329                Der Rundgang hat mir sehr gefallen :)\n",
       "333    Nette Schulungsleiterin und eine angenehme Füh...\n",
       "334                          Der Rundgang war sehr cool!\n",
       "335                             Es war sehr interessant.\n",
       "336                                   War super danke :)\n",
       "340                                                danke\n",
       "346       Gut erklärt, sehr hilfreich für die Zukunft :)\n",
       "367                            schön gemacht , cr7 goat \n",
       "368    wenn man ein großes Interesse für die Biblioth...\n",
       "369                                         ronaldo goat\n",
       "370                 uff lock jetz glei kebabi fetze gehe\n",
       "372    Bleiben sie so wie sie sind und immer weiter so !\n",
       "373                                            hab durst\n",
       "380                                     ganz gut gewesen\n",
       "381                 Frau Müller war sehr nett zu Simon\\n\n",
       "383                                       Luca war hier \n",
       "384                       Nein. Mit freundlichen Grüßen \n",
       "385    Neeeeeeeeeeeeeeeeeeeeeeeeeeeeeeeeeeeeeeeeeeeee...\n",
       "396          Der Südwesten ist für immer Rot Weiß Rot!!!\n",
       "399                                                 nein\n",
       "401            Sehr nützliche und interessante Infos :) \n",
       "402                                      Führung war gut\n",
       "403                          Sehr interessant gestaltet \n",
       "404    Führung war gut, aber KSC ist nicht gut! (FORZ...\n",
       "407                                                  ✔✔✔\n",
       "408                        kahoot wäre besser (als quiz)\n",
       "409                                               Amogus\n",
       "414                 War super , sehr nett und lehrreich!\n",
       "416                                          voll gut :)\n",
       "418                                               Insta?\n",
       "419                                  danke für ihre zeit\n",
       "421                                                 nein\n",
       "422                                                 blub\n",
       "423                                                   \\n\n",
       "425    Etwas zu langweilig und das Publikum sollte me...\n",
       "Name: Wollen Sie uns noch etwas mitteilen?, dtype: object"
      ]
     },
     "execution_count": 39,
     "metadata": {},
     "output_type": "execute_result"
    }
   ],
   "source": [
    "pd.set_option('display.max_rows', 150) #Alle 141 Zeilen anzeigen lassen\n",
    "freitextfeld = df_freitext['Wollen Sie uns noch etwas mitteilen?']\n",
    "freitextfeld"
   ]
  },
  {
   "cell_type": "code",
   "execution_count": 40,
   "id": "b59c400b",
   "metadata": {},
   "outputs": [],
   "source": [
    "#Zur Auswertung werden die freien Antwortmöglichkeiten kategorisiert, dafür wurde die Spalte als CSV Datei exportiert\n",
    "freitextfeld.to_csv(r'C:\\Users\\Anna-Leida\\OneDrive\\Desktop\\Zertifikatskurs_Projekt\\freitextfeld.csv')"
   ]
  },
  {
   "cell_type": "code",
   "execution_count": 41,
   "id": "652c7996",
   "metadata": {},
   "outputs": [
    {
     "data": {
      "text/plain": [
       "61"
      ]
     },
     "execution_count": 41,
     "metadata": {},
     "output_type": "execute_result"
    }
   ],
   "source": [
    "nichternstgemeinteAntworten = freitextfeld.loc[[9, 13, 16, 22, 24, 23, 25, 30, 35, 45, 47, 50, 51, 56, 73, 74, 78, 81, 85, 86, 89, 100, 104, 106, 109, 115, 127, 131, 139, 161, 171, 180, 186, 189, 222, 250, 252, 253, 256, 264, 282, 285, 293, 315, 340, 368, 369, 373, 370, 381, 383, 384, 385, 396, 399, 407, 418, 419, 421, 422, 423]]\n",
    "nichternstgemeinteAntworten.count()"
   ]
  },
  {
   "cell_type": "code",
   "execution_count": 42,
   "id": "f5e3f668",
   "metadata": {},
   "outputs": [
    {
     "data": {
      "text/plain": [
       "7"
      ]
     },
     "execution_count": 42,
     "metadata": {},
     "output_type": "execute_result"
    }
   ],
   "source": [
    "rundgang = freitextfeld.loc[[72, 214, 219, 329, 334, 402, 404]]\n",
    "rundgang.count()"
   ]
  },
  {
   "cell_type": "code",
   "execution_count": 43,
   "id": "c7f1cd99",
   "metadata": {},
   "outputs": [
    {
     "data": {
      "text/plain": [
       "72     Ein längeren Rundgang wäre echt hilfreich um s...\n",
       "214    Super Bibliothek die ich in der Zukunft bestim...\n",
       "219    Es hat mega gefallen! Habe es in Betracht nich...\n",
       "329                Der Rundgang hat mir sehr gefallen :)\n",
       "334                          Der Rundgang war sehr cool!\n",
       "402                                      Führung war gut\n",
       "404    Führung war gut, aber KSC ist nicht gut! (FORZ...\n",
       "Name: Wollen Sie uns noch etwas mitteilen?, dtype: object"
      ]
     },
     "execution_count": 43,
     "metadata": {},
     "output_type": "execute_result"
    }
   ],
   "source": [
    "rundgang"
   ]
  },
  {
   "cell_type": "code",
   "execution_count": 44,
   "id": "6fdbdaea",
   "metadata": {},
   "outputs": [
    {
     "data": {
      "text/plain": [
       "39"
      ]
     },
     "execution_count": 44,
     "metadata": {},
     "output_type": "execute_result"
    }
   ],
   "source": [
    "gutundinformativ = freitextfeld.loc[[7, 10, 15, 27, 28, 40, 41, 53, 69, 79, 112, 129, 130, 154, 156, 157, 164, 170, 176, 192, 197, 202, 218, 220, 226, 295, 298, 310, 322, 335, 336, 346, 367, 372, 380, 401, 403, 414, 416]]\n",
    "gutundinformativ.count()"
   ]
  },
  {
   "cell_type": "code",
   "execution_count": 45,
   "id": "800f502e",
   "metadata": {},
   "outputs": [
    {
     "data": {
      "text/plain": [
       "10"
      ]
     },
     "execution_count": 45,
     "metadata": {},
     "output_type": "execute_result"
    }
   ],
   "source": [
    "guterschulungsleiter = freitextfeld.loc[[4, 98, 101, 113, 181, 195, 217, 227, 291, 333]]\n",
    "guterschulungsleiter.count()"
   ]
  },
  {
   "cell_type": "code",
   "execution_count": 46,
   "id": "4de430d5",
   "metadata": {},
   "outputs": [],
   "source": [
    "sizen = freitextfeld.loc[[75, 77]]"
   ]
  },
  {
   "cell_type": "code",
   "execution_count": 47,
   "id": "3eaa966a",
   "metadata": {},
   "outputs": [],
   "source": [
    "quizpossitiv = freitextfeld.loc[[203, 210]]"
   ]
  },
  {
   "cell_type": "code",
   "execution_count": 48,
   "id": "1a62d9a3",
   "metadata": {},
   "outputs": [],
   "source": [
    "kahoot = freitextfeld.loc[[234, 408]]"
   ]
  },
  {
   "cell_type": "code",
   "execution_count": 49,
   "id": "e8c70f23",
   "metadata": {},
   "outputs": [],
   "source": [
    "Gruppenaufgabezuschnell = freitextfeld.loc[[327]]"
   ]
  },
  {
   "cell_type": "code",
   "execution_count": 50,
   "id": "50bd8057",
   "metadata": {},
   "outputs": [],
   "source": [
    "Gruppenaufgabezulang = freitextfeld.loc [[53]]"
   ]
  },
  {
   "cell_type": "code",
   "execution_count": 51,
   "id": "76b0377e",
   "metadata": {},
   "outputs": [],
   "source": [
    "langweilig = freitextfeld.loc [[425, 212]]"
   ]
  },
  {
   "cell_type": "code",
   "execution_count": 52,
   "id": "a40afe32",
   "metadata": {},
   "outputs": [],
   "source": [
    "freundlichkeit = freitextfeld.loc [[155, 323, 326]]"
   ]
  },
  {
   "cell_type": "code",
   "execution_count": 53,
   "id": "eee4f99a",
   "metadata": {},
   "outputs": [],
   "source": [
    "zielgruppe = freitextfeld.loc [[294]]"
   ]
  },
  {
   "cell_type": "code",
   "execution_count": 54,
   "id": "67a5f148",
   "metadata": {},
   "outputs": [],
   "source": [
    "technik = freitextfeld.loc [[309]]"
   ]
  },
  {
   "cell_type": "code",
   "execution_count": 55,
   "id": "393896df",
   "metadata": {},
   "outputs": [],
   "source": [
    "Handout = freitextfeld.loc [[319]]"
   ]
  },
  {
   "cell_type": "code",
   "execution_count": 56,
   "id": "6f191703",
   "metadata": {},
   "outputs": [],
   "source": [
    "bibliotheksausweis = freitextfeld.loc[[14]]"
   ]
  },
  {
   "cell_type": "code",
   "execution_count": 57,
   "id": "ca165cd8",
   "metadata": {},
   "outputs": [],
   "source": [
    "kürzer = freitextfeld.loc[[211]]"
   ]
  },
  {
   "cell_type": "code",
   "execution_count": 58,
   "id": "fa8ef9c9",
   "metadata": {},
   "outputs": [],
   "source": [
    "aufgabegruppe3 = freitextfeld.loc[[110]]"
   ]
  },
  {
   "cell_type": "code",
   "execution_count": 59,
   "id": "c6eaa913",
   "metadata": {},
   "outputs": [],
   "source": [
    "toiletten = freitextfeld.loc[[173]]"
   ]
  },
  {
   "cell_type": "code",
   "execution_count": 60,
   "id": "afd99e1c",
   "metadata": {},
   "outputs": [],
   "source": [
    "df_freitext= [\n",
    "  ['Nicht ernst gemeinte Antworten', 61],\n",
    "  ['Rundgang positiv', 7],\n",
    "  ['gute & informative Schulung', 39],\n",
    "  ['Schulungsleiter positiv', 10],\n",
    "  ['Schulungsleiter negativ', 3],\n",
    "  ['Siezen verwirrend', 2],\n",
    "  ['Quiz positiv', 2],\n",
    "  ['Kahoot anstelle Menti', 2], \n",
    "  ['Besprechung zu schnell', 1],\n",
    "  ['Besprechung zu lang', 1],\n",
    "  ['Schulung langweilig', 2],\n",
    "  ['Zielgruppengerecht', 1],\n",
    "  ['Laptop mit Mäusen ausstatten', 1],\n",
    "  ['Handout erwünscht', 1],\n",
    "  ['Schlechte Kommunikation bezüglich Bibliotheksausweis', 1], \n",
    "  ['Theorieteil zu lang', 1],\n",
    "  ['Aufgabe 3 anpassen', 1],\n",
    "  ['Toiletten schlecht zu finden', 1], \n",
    "]"
   ]
  },
  {
   "cell_type": "code",
   "execution_count": 61,
   "id": "ff6ed7aa",
   "metadata": {},
   "outputs": [],
   "source": [
    "column_names=['Antworten','Anzahl']"
   ]
  },
  {
   "cell_type": "code",
   "execution_count": 62,
   "id": "88fa3b5e",
   "metadata": {},
   "outputs": [
    {
     "data": {
      "text/html": [
       "<div>\n",
       "<style scoped>\n",
       "    .dataframe tbody tr th:only-of-type {\n",
       "        vertical-align: middle;\n",
       "    }\n",
       "\n",
       "    .dataframe tbody tr th {\n",
       "        vertical-align: top;\n",
       "    }\n",
       "\n",
       "    .dataframe thead th {\n",
       "        text-align: right;\n",
       "    }\n",
       "</style>\n",
       "<table border=\"1\" class=\"dataframe\">\n",
       "  <thead>\n",
       "    <tr style=\"text-align: right;\">\n",
       "      <th></th>\n",
       "      <th>Antworten</th>\n",
       "      <th>Anzahl</th>\n",
       "    </tr>\n",
       "  </thead>\n",
       "  <tbody>\n",
       "    <tr>\n",
       "      <th>0</th>\n",
       "      <td>Nicht ernst gemeinte Antworten</td>\n",
       "      <td>61</td>\n",
       "    </tr>\n",
       "    <tr>\n",
       "      <th>1</th>\n",
       "      <td>Rundgang positiv</td>\n",
       "      <td>7</td>\n",
       "    </tr>\n",
       "    <tr>\n",
       "      <th>2</th>\n",
       "      <td>gute &amp; informative Schulung</td>\n",
       "      <td>39</td>\n",
       "    </tr>\n",
       "    <tr>\n",
       "      <th>3</th>\n",
       "      <td>Schulungsleiter positiv</td>\n",
       "      <td>10</td>\n",
       "    </tr>\n",
       "    <tr>\n",
       "      <th>4</th>\n",
       "      <td>Schulungsleiter negativ</td>\n",
       "      <td>3</td>\n",
       "    </tr>\n",
       "    <tr>\n",
       "      <th>5</th>\n",
       "      <td>Siezen verwirrend</td>\n",
       "      <td>2</td>\n",
       "    </tr>\n",
       "    <tr>\n",
       "      <th>6</th>\n",
       "      <td>Quiz positiv</td>\n",
       "      <td>2</td>\n",
       "    </tr>\n",
       "    <tr>\n",
       "      <th>7</th>\n",
       "      <td>Kahoot anstelle Menti</td>\n",
       "      <td>2</td>\n",
       "    </tr>\n",
       "    <tr>\n",
       "      <th>8</th>\n",
       "      <td>Besprechung zu schnell</td>\n",
       "      <td>1</td>\n",
       "    </tr>\n",
       "    <tr>\n",
       "      <th>9</th>\n",
       "      <td>Besprechung zu lang</td>\n",
       "      <td>1</td>\n",
       "    </tr>\n",
       "    <tr>\n",
       "      <th>10</th>\n",
       "      <td>Schulung langweilig</td>\n",
       "      <td>2</td>\n",
       "    </tr>\n",
       "    <tr>\n",
       "      <th>11</th>\n",
       "      <td>Zielgruppengerecht</td>\n",
       "      <td>1</td>\n",
       "    </tr>\n",
       "    <tr>\n",
       "      <th>12</th>\n",
       "      <td>Laptop mit Mäusen ausstatten</td>\n",
       "      <td>1</td>\n",
       "    </tr>\n",
       "    <tr>\n",
       "      <th>13</th>\n",
       "      <td>Handout erwünscht</td>\n",
       "      <td>1</td>\n",
       "    </tr>\n",
       "    <tr>\n",
       "      <th>14</th>\n",
       "      <td>Schlechte Kommunikation bezüglich Bibliotheksa...</td>\n",
       "      <td>1</td>\n",
       "    </tr>\n",
       "    <tr>\n",
       "      <th>15</th>\n",
       "      <td>Theorieteil zu lang</td>\n",
       "      <td>1</td>\n",
       "    </tr>\n",
       "    <tr>\n",
       "      <th>16</th>\n",
       "      <td>Aufgabe 3 anpassen</td>\n",
       "      <td>1</td>\n",
       "    </tr>\n",
       "    <tr>\n",
       "      <th>17</th>\n",
       "      <td>Toiletten schlecht zu finden</td>\n",
       "      <td>1</td>\n",
       "    </tr>\n",
       "  </tbody>\n",
       "</table>\n",
       "</div>"
      ],
      "text/plain": [
       "                                            Antworten  Anzahl\n",
       "0                      Nicht ernst gemeinte Antworten      61\n",
       "1                                    Rundgang positiv       7\n",
       "2                         gute & informative Schulung      39\n",
       "3                             Schulungsleiter positiv      10\n",
       "4                             Schulungsleiter negativ       3\n",
       "5                                   Siezen verwirrend       2\n",
       "6                                        Quiz positiv       2\n",
       "7                               Kahoot anstelle Menti       2\n",
       "8                              Besprechung zu schnell       1\n",
       "9                                 Besprechung zu lang       1\n",
       "10                                Schulung langweilig       2\n",
       "11                                 Zielgruppengerecht       1\n",
       "12                       Laptop mit Mäusen ausstatten       1\n",
       "13                                  Handout erwünscht       1\n",
       "14  Schlechte Kommunikation bezüglich Bibliotheksa...       1\n",
       "15                                Theorieteil zu lang       1\n",
       "16                                 Aufgabe 3 anpassen       1\n",
       "17                       Toiletten schlecht zu finden       1"
      ]
     },
     "execution_count": 62,
     "metadata": {},
     "output_type": "execute_result"
    }
   ],
   "source": [
    "df_freitext_final=pd.DataFrame(df_freitext, columns=column_names)\n",
    "df_freitext_final"
   ]
  },
  {
   "cell_type": "code",
   "execution_count": 63,
   "id": "4a0d57c6",
   "metadata": {},
   "outputs": [
    {
     "data": {
      "image/png": "[encoded data removed]",
      "text/plain": [
       "<Figure size 640x480 with 1 Axes>"
      ]
     },
     "metadata": {},
     "output_type": "display_data"
    }
   ],
   "source": [
    "freitextfeld = sns.barplot(x = 'Anzahl', y='Antworten',\n",
    "data= df_freitext_final, color = '#439D94')\n",
    "freitextfeld.set_xlabel( 'Anzahl', size = 12 ) \n",
    "freitextfeld.set_ylabel( 'Antworten' , size = 12 ) \n",
    "freitextfeld.set_title( 'Freitextfeld' , size = 20)\n",
    "freitextfeld.bar_label(freitextfeld.containers[0], size = 10)\n",
    "plt.savefig(r'C:\\Users\\Anna-Leida\\OneDrive\\Desktop\\Zertifikatskurs_Projekt\\freitextfeld.png')"
   ]
  },
  {
   "cell_type": "code",
   "execution_count": null,
   "id": "180a9d1d",
   "metadata": {},
   "outputs": [],
   "source": []
  }
 ],
 "metadata": {
  "kernelspec": {
   "display_name": "Python 3 (ipykernel)",
   "language": "python",
   "name": "python3"
  },
  "language_info": {
   "codemirror_mode": {
    "name": "ipython",
    "version": 3
   },
   "file_extension": ".py",
   "mimetype": "text/x-python",
   "name": "python",
   "nbconvert_exporter": "python",
   "pygments_lexer": "ipython3",
   "version": "3.10.9"
  }
 },
 "nbformat": 4,
 "nbformat_minor": 5
}
