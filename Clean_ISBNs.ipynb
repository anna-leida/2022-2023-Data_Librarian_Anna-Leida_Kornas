{
 "cells": [
  {
   "cell_type": "code",
   "execution_count": 1,
   "id": "0e553e15",
   "metadata": {},
   "outputs": [],
   "source": [
    "dirty_isbns = [\n",
    "    \" ISBN 978-3-518-58773-7 \", \n",
    "    \"ISBN___978-1491946008 \",\n",
    "    \"ISBN 978-1593276034\"]"
   ]
  },
  {
   "cell_type": "code",
   "execution_count": 4,
   "id": "c0b59801",
   "metadata": {},
   "outputs": [
    {
     "name": "stdout",
     "output_type": "stream",
     "text": [
      " ISBN 978-3-518-58773-7 \n"
     ]
    }
   ],
   "source": [
    "# Funktion definiert\n",
    "def clean_isbn():\n",
    "    isbn = \" ISBN 978-3-518-58773-7 \"\n",
    "    print(isbn)\n",
    "\n",
    "# Funktion aufgerufen\n",
    "clean_isbn()"
   ]
  },
  {
   "cell_type": "code",
   "execution_count": 7,
   "id": "5fa25e77",
   "metadata": {},
   "outputs": [
    {
     "name": "stdout",
     "output_type": "stream",
     "text": [
      "ISBN 978-3-518-58773-7\n"
     ]
    }
   ],
   "source": [
    "def clean_isbn():\n",
    "    isbn = \" ISBN 978-3-518-58773-7 \"\n",
    "    isbn = isbn.strip() # entfernt Leerzeichen vorne und hinten\n",
    "    print(isbn)\n",
    "    \n",
    "clean_isbn()"
   ]
  },
  {
   "cell_type": "code",
   "execution_count": 8,
   "id": "b80b0b0d",
   "metadata": {},
   "outputs": [
    {
     "name": "stdout",
     "output_type": "stream",
     "text": [
      "978-3-518-58773-7\n"
     ]
    }
   ],
   "source": [
    "def clean_isbn():\n",
    "    isbn = \" ISBN 978-3-518-58773-7 \"\n",
    "    isbn = isbn.replace(\"ISBN\" , \"\") # ersetzt ISBN durch nichts\n",
    "    isbn = isbn.strip() \n",
    "    print(isbn)\n",
    "    \n",
    "clean_isbn()"
   ]
  },
  {
   "cell_type": "code",
   "execution_count": 10,
   "id": "573d8cbb",
   "metadata": {},
   "outputs": [
    {
     "name": "stdout",
     "output_type": "stream",
     "text": [
      "978-3-518-58773-7\n"
     ]
    }
   ],
   "source": [
    "def clean_isbn(isbn): # Funktion wird verallgemeinert und erhält ein Argument\n",
    "    #isbn = \" ISBN 978-3-518-58773-7 \"\n",
    "    isbn = isbn.replace(\"ISBN\" , \"\") \n",
    "    isbn = isbn.strip() \n",
    "    print(isbn)\n",
    "    \n",
    "clean_isbn(\" ISBN 978-3-518-58773-7 \")"
   ]
  },
  {
   "cell_type": "code",
   "execution_count": 11,
   "id": "64ffb519",
   "metadata": {},
   "outputs": [],
   "source": [
    "def clean_isbn(isbn): \n",
    "    isbn = isbn.replace(\"ISBN\" , \"\") \n",
    "    isbn = isbn.strip() \n",
    "    return isbn # isbn wird zurückgegeben\n",
    "    \n",
    "cleaned_isbn_1 = clean_isbn(\" ISBN 978-3-518-58773-7 \")"
   ]
  },
  {
   "cell_type": "code",
   "execution_count": 12,
   "id": "17a63edc",
   "metadata": {},
   "outputs": [
    {
     "name": "stdout",
     "output_type": "stream",
     "text": [
      "This is nice ISBN: 978-3-518-58773-7\n"
     ]
    }
   ],
   "source": [
    "print (\"This is nice ISBN: \" + cleaned_isbn_1)"
   ]
  },
  {
   "cell_type": "code",
   "execution_count": 13,
   "id": "d0e6af0f",
   "metadata": {},
   "outputs": [
    {
     "name": "stdout",
     "output_type": "stream",
     "text": [
      "978-3-518-58773-7\n",
      "___978-1491946008\n",
      "978-1593276034\n"
     ]
    }
   ],
   "source": [
    "for isbn in dirty_isbns:\n",
    "    print(clean_isbn(isbn))"
   ]
  },
  {
   "cell_type": "code",
   "execution_count": 18,
   "id": "22b8a2e9",
   "metadata": {},
   "outputs": [],
   "source": [
    "def clean_isbn(isbn): \n",
    "    isbn = isbn.replace(\"ISBN\" , \"\") \n",
    "    isbn = isbn.strip() \n",
    "    isbn = isbn.replace(\"_\" , \"\")\n",
    "    isbn = isbn.replace (\"-\" , \"\")\n",
    "    return isbn "
   ]
  },
  {
   "cell_type": "code",
   "execution_count": 15,
   "id": "cc498d98",
   "metadata": {},
   "outputs": [
    {
     "name": "stdout",
     "output_type": "stream",
     "text": [
      "9783518587737\n",
      "9781491946008\n",
      "9781593276034\n"
     ]
    }
   ],
   "source": [
    "for isbn in dirty_isbns:\n",
    "    print(clean_isbn(isbn))"
   ]
  },
  {
   "cell_type": "code",
   "execution_count": null,
   "id": "0ba7ed7d",
   "metadata": {},
   "outputs": [],
   "source": []
  }
 ],
 "metadata": {
  "kernelspec": {
   "display_name": "Python 3 (ipykernel)",
   "language": "python",
   "name": "python3"
  },
  "language_info": {
   "codemirror_mode": {
    "name": "ipython",
    "version": 3
   },
   "file_extension": ".py",
   "mimetype": "text/x-python",
   "name": "python",
   "nbconvert_exporter": "python",
   "pygments_lexer": "ipython3",
   "version": "3.9.13"
  }
 },
 "nbformat": 4,
 "nbformat_minor": 5
}
