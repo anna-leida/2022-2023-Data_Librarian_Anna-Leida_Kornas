{
 "cells": [
  {
   "attachments": {},
   "cell_type": "markdown",
   "metadata": {},
   "source": [
    "# Projektaufgabe: Diskriptive Statistik und Visualisierung"
   ]
  },
  {
   "cell_type": "code",
   "execution_count": 2,
   "metadata": {},
   "outputs": [],
   "source": [
    "import pandas as pd\n",
    "import seaborn as sns\n",
    "import numpy as np\n",
    "import matplotlib.pyplot as plt\n",
    "sns.set()\n",
    "%matplotlib inline\n",
    "\n",
    "df = pd.read_csv('../data/Library_Usage.csv')"
   ]
  },
  {
   "attachments": {},
   "cell_type": "markdown",
   "metadata": {},
   "source": [
    "#### Wie viele NutzerInnen möchten per E-Mail benachrichtigt werden? Welche Altersgruppe ist bei der E-Mail Benachrichtugung am häufigsten vertreten?"
   ]
  },
  {
   "cell_type": "code",
   "execution_count": 3,
   "metadata": {},
   "outputs": [
    {
     "data": {
      "text/plain": [
       "Index(['Patron Type Code', 'Patron Type Definition', 'Total Checkouts',\n",
       "       'Total Renewals', 'Age Range', 'Home Library Code',\n",
       "       'Home Library Definition', 'Circulation Active Month',\n",
       "       'Circulation Active Year', 'Notice Preference Code',\n",
       "       'Notice Preference Definition', 'Provided Email Address',\n",
       "       'Year Patron Registered', 'Within San Francisco County'],\n",
       "      dtype='object')"
      ]
     },
     "execution_count": 3,
     "metadata": {},
     "output_type": "execute_result"
    }
   ],
   "source": [
    "df.columns"
   ]
  },
  {
   "cell_type": "code",
   "execution_count": 11,
   "metadata": {},
   "outputs": [
    {
     "data": {
      "text/html": [
       "<div>\n",
       "<style scoped>\n",
       "    .dataframe tbody tr th:only-of-type {\n",
       "        vertical-align: middle;\n",
       "    }\n",
       "\n",
       "    .dataframe tbody tr th {\n",
       "        vertical-align: top;\n",
       "    }\n",
       "\n",
       "    .dataframe thead th {\n",
       "        text-align: right;\n",
       "    }\n",
       "</style>\n",
       "<table border=\"1\" class=\"dataframe\">\n",
       "  <thead>\n",
       "    <tr style=\"text-align: right;\">\n",
       "      <th></th>\n",
       "      <th>Patron Type Code</th>\n",
       "      <th>Patron Type Definition</th>\n",
       "      <th>Total Checkouts</th>\n",
       "      <th>Total Renewals</th>\n",
       "      <th>Age Range</th>\n",
       "      <th>Home Library Code</th>\n",
       "      <th>Home Library Definition</th>\n",
       "      <th>Circulation Active Month</th>\n",
       "      <th>Circulation Active Year</th>\n",
       "      <th>Notice Preference Code</th>\n",
       "      <th>Notice Preference Definition</th>\n",
       "      <th>Provided Email Address</th>\n",
       "      <th>Year Patron Registered</th>\n",
       "      <th>Within San Francisco County</th>\n",
       "    </tr>\n",
       "  </thead>\n",
       "  <tbody>\n",
       "    <tr>\n",
       "      <th>0</th>\n",
       "      <td>1</td>\n",
       "      <td>Juvenile</td>\n",
       "      <td>0</td>\n",
       "      <td>0</td>\n",
       "      <td>0 to 9 years</td>\n",
       "      <td>r3</td>\n",
       "      <td>Richmond</td>\n",
       "      <td>NaN</td>\n",
       "      <td>NaN</td>\n",
       "      <td>z</td>\n",
       "      <td>Email</td>\n",
       "      <td>True</td>\n",
       "      <td>2022</td>\n",
       "      <td>True</td>\n",
       "    </tr>\n",
       "    <tr>\n",
       "      <th>1</th>\n",
       "      <td>2</td>\n",
       "      <td>Teen</td>\n",
       "      <td>0</td>\n",
       "      <td>0</td>\n",
       "      <td>10 to 19 years</td>\n",
       "      <td>x</td>\n",
       "      <td>Main</td>\n",
       "      <td>NaN</td>\n",
       "      <td>NaN</td>\n",
       "      <td>z</td>\n",
       "      <td>Email</td>\n",
       "      <td>True</td>\n",
       "      <td>2022</td>\n",
       "      <td>True</td>\n",
       "    </tr>\n",
       "    <tr>\n",
       "      <th>2</th>\n",
       "      <td>0</td>\n",
       "      <td>Adult</td>\n",
       "      <td>0</td>\n",
       "      <td>0</td>\n",
       "      <td>35 to 44 years</td>\n",
       "      <td>m4</td>\n",
       "      <td>Merced</td>\n",
       "      <td>NaN</td>\n",
       "      <td>NaN</td>\n",
       "      <td>z</td>\n",
       "      <td>Email</td>\n",
       "      <td>True</td>\n",
       "      <td>2019</td>\n",
       "      <td>True</td>\n",
       "    </tr>\n",
       "    <tr>\n",
       "      <th>3</th>\n",
       "      <td>2</td>\n",
       "      <td>Teen</td>\n",
       "      <td>0</td>\n",
       "      <td>0</td>\n",
       "      <td>10 to 19 years</td>\n",
       "      <td>x</td>\n",
       "      <td>Main</td>\n",
       "      <td>NaN</td>\n",
       "      <td>NaN</td>\n",
       "      <td>z</td>\n",
       "      <td>Email</td>\n",
       "      <td>True</td>\n",
       "      <td>2021</td>\n",
       "      <td>True</td>\n",
       "    </tr>\n",
       "    <tr>\n",
       "      <th>4</th>\n",
       "      <td>2</td>\n",
       "      <td>Teen</td>\n",
       "      <td>0</td>\n",
       "      <td>0</td>\n",
       "      <td>10 to 19 years</td>\n",
       "      <td>b2</td>\n",
       "      <td>Bayview</td>\n",
       "      <td>NaN</td>\n",
       "      <td>NaN</td>\n",
       "      <td>z</td>\n",
       "      <td>Email</td>\n",
       "      <td>True</td>\n",
       "      <td>2013</td>\n",
       "      <td>True</td>\n",
       "    </tr>\n",
       "    <tr>\n",
       "      <th>...</th>\n",
       "      <td>...</td>\n",
       "      <td>...</td>\n",
       "      <td>...</td>\n",
       "      <td>...</td>\n",
       "      <td>...</td>\n",
       "      <td>...</td>\n",
       "      <td>...</td>\n",
       "      <td>...</td>\n",
       "      <td>...</td>\n",
       "      <td>...</td>\n",
       "      <td>...</td>\n",
       "      <td>...</td>\n",
       "      <td>...</td>\n",
       "      <td>...</td>\n",
       "    </tr>\n",
       "    <tr>\n",
       "      <th>437109</th>\n",
       "      <td>3</td>\n",
       "      <td>Senior</td>\n",
       "      <td>3</td>\n",
       "      <td>0</td>\n",
       "      <td>65 to 74 years</td>\n",
       "      <td>a5</td>\n",
       "      <td>Anza</td>\n",
       "      <td>August</td>\n",
       "      <td>2004.0</td>\n",
       "      <td>z</td>\n",
       "      <td>Email</td>\n",
       "      <td>True</td>\n",
       "      <td>2003</td>\n",
       "      <td>True</td>\n",
       "    </tr>\n",
       "    <tr>\n",
       "      <th>437110</th>\n",
       "      <td>0</td>\n",
       "      <td>Adult</td>\n",
       "      <td>14</td>\n",
       "      <td>11</td>\n",
       "      <td>45 to 54 years</td>\n",
       "      <td>x</td>\n",
       "      <td>Main</td>\n",
       "      <td>August</td>\n",
       "      <td>2004.0</td>\n",
       "      <td>z</td>\n",
       "      <td>Email</td>\n",
       "      <td>True</td>\n",
       "      <td>2003</td>\n",
       "      <td>False</td>\n",
       "    </tr>\n",
       "    <tr>\n",
       "      <th>437111</th>\n",
       "      <td>0</td>\n",
       "      <td>Adult</td>\n",
       "      <td>2</td>\n",
       "      <td>0</td>\n",
       "      <td>45 to 54 years</td>\n",
       "      <td>x</td>\n",
       "      <td>Main</td>\n",
       "      <td>August</td>\n",
       "      <td>2004.0</td>\n",
       "      <td>z</td>\n",
       "      <td>Email</td>\n",
       "      <td>True</td>\n",
       "      <td>2003</td>\n",
       "      <td>True</td>\n",
       "    </tr>\n",
       "    <tr>\n",
       "      <th>437113</th>\n",
       "      <td>3</td>\n",
       "      <td>Senior</td>\n",
       "      <td>4</td>\n",
       "      <td>0</td>\n",
       "      <td>65 to 74 years</td>\n",
       "      <td>m6</td>\n",
       "      <td>Mission</td>\n",
       "      <td>August</td>\n",
       "      <td>2004.0</td>\n",
       "      <td>z</td>\n",
       "      <td>Email</td>\n",
       "      <td>True</td>\n",
       "      <td>2004</td>\n",
       "      <td>True</td>\n",
       "    </tr>\n",
       "    <tr>\n",
       "      <th>437114</th>\n",
       "      <td>3</td>\n",
       "      <td>Senior</td>\n",
       "      <td>3</td>\n",
       "      <td>9</td>\n",
       "      <td>65 to 74 years</td>\n",
       "      <td>p9</td>\n",
       "      <td>Presidio</td>\n",
       "      <td>August</td>\n",
       "      <td>2004.0</td>\n",
       "      <td>z</td>\n",
       "      <td>Email</td>\n",
       "      <td>True</td>\n",
       "      <td>2004</td>\n",
       "      <td>True</td>\n",
       "    </tr>\n",
       "  </tbody>\n",
       "</table>\n",
       "<p>391614 rows × 14 columns</p>\n",
       "</div>"
      ],
      "text/plain": [
       "        Patron Type Code Patron Type Definition  Total Checkouts  \\\n",
       "0                      1               Juvenile                0   \n",
       "1                      2                   Teen                0   \n",
       "2                      0                  Adult                0   \n",
       "3                      2                   Teen                0   \n",
       "4                      2                   Teen                0   \n",
       "...                  ...                    ...              ...   \n",
       "437109                 3                 Senior                3   \n",
       "437110                 0                  Adult               14   \n",
       "437111                 0                  Adult                2   \n",
       "437113                 3                 Senior                4   \n",
       "437114                 3                 Senior                3   \n",
       "\n",
       "        Total Renewals       Age Range Home Library Code  \\\n",
       "0                    0    0 to 9 years                r3   \n",
       "1                    0  10 to 19 years                 x   \n",
       "2                    0  35 to 44 years                m4   \n",
       "3                    0  10 to 19 years                 x   \n",
       "4                    0  10 to 19 years                b2   \n",
       "...                ...             ...               ...   \n",
       "437109               0  65 to 74 years                a5   \n",
       "437110              11  45 to 54 years                 x   \n",
       "437111               0  45 to 54 years                 x   \n",
       "437113               0  65 to 74 years                m6   \n",
       "437114               9  65 to 74 years                p9   \n",
       "\n",
       "       Home Library Definition Circulation Active Month  \\\n",
       "0                     Richmond                      NaN   \n",
       "1                         Main                      NaN   \n",
       "2                       Merced                      NaN   \n",
       "3                         Main                      NaN   \n",
       "4                      Bayview                      NaN   \n",
       "...                        ...                      ...   \n",
       "437109                    Anza                   August   \n",
       "437110                    Main                   August   \n",
       "437111                    Main                   August   \n",
       "437113                 Mission                   August   \n",
       "437114                Presidio                   August   \n",
       "\n",
       "        Circulation Active Year Notice Preference Code  \\\n",
       "0                           NaN                      z   \n",
       "1                           NaN                      z   \n",
       "2                           NaN                      z   \n",
       "3                           NaN                      z   \n",
       "4                           NaN                      z   \n",
       "...                         ...                    ...   \n",
       "437109                   2004.0                      z   \n",
       "437110                   2004.0                      z   \n",
       "437111                   2004.0                      z   \n",
       "437113                   2004.0                      z   \n",
       "437114                   2004.0                      z   \n",
       "\n",
       "       Notice Preference Definition  Provided Email Address  \\\n",
       "0                             Email                    True   \n",
       "1                             Email                    True   \n",
       "2                             Email                    True   \n",
       "3                             Email                    True   \n",
       "4                             Email                    True   \n",
       "...                             ...                     ...   \n",
       "437109                        Email                    True   \n",
       "437110                        Email                    True   \n",
       "437111                        Email                    True   \n",
       "437113                        Email                    True   \n",
       "437114                        Email                    True   \n",
       "\n",
       "        Year Patron Registered  Within San Francisco County  \n",
       "0                         2022                         True  \n",
       "1                         2022                         True  \n",
       "2                         2019                         True  \n",
       "3                         2021                         True  \n",
       "4                         2013                         True  \n",
       "...                        ...                          ...  \n",
       "437109                    2003                         True  \n",
       "437110                    2003                        False  \n",
       "437111                    2003                         True  \n",
       "437113                    2004                         True  \n",
       "437114                    2004                         True  \n",
       "\n",
       "[391614 rows x 14 columns]"
      ]
     },
     "execution_count": 11,
     "metadata": {},
     "output_type": "execute_result"
    }
   ],
   "source": [
    "email = df.loc[\n",
    "    (df['Notice Preference Definition'] == 'Email')]\n",
    "email"
   ]
  },
  {
   "cell_type": "code",
   "execution_count": 12,
   "metadata": {},
   "outputs": [
    {
     "data": {
      "text/plain": [
       "25 to 34 years       88098\n",
       "35 to 44 years       76322\n",
       "10 to 19 years       55109\n",
       "45 to 54 years       45360\n",
       "0 to 9 years         29979\n",
       "65 to 74 years       26988\n",
       "20 to 24 years       21740\n",
       "55 to 59 years       17403\n",
       "60 to 64 years       15438\n",
       "75 years and over    14340\n",
       "Name: Age Range, dtype: int64"
      ]
     },
     "execution_count": 12,
     "metadata": {},
     "output_type": "execute_result"
    }
   ],
   "source": [
    "email['Age Range'].value_counts()"
   ]
  },
  {
   "cell_type": "code",
   "execution_count": 29,
   "metadata": {},
   "outputs": [
    {
     "data": {
      "text/plain": [
       "<seaborn.axisgrid.FacetGrid at 0x2ad94d79c10>"
      ]
     },
     "execution_count": 29,
     "metadata": {},
     "output_type": "execute_result"
    },
    {
     "data": {
      "image/png": "[encoded data removed]",
      "text/plain": [
       "<Figure size 2219.6x500 with 1 Axes>"
      ]
     },
     "metadata": {},
     "output_type": "display_data"
    }
   ],
   "source": [
    "sns.catplot(x='Age Range', kind='count', hue='Notice Preference Definition',\n",
    "data = email, aspect=4, palette='pastel')"
   ]
  },
  {
   "attachments": {},
   "cell_type": "markdown",
   "metadata": {},
   "source": [
    "391.614 NutzerInnen möchten per E-Mail benachrichtigt werden. Die am meisten vertretene Altersgruppe sind die 25 bis 34 jährigen mit insgesamt 88.098 NutzerInnen."
   ]
  },
  {
   "attachments": {},
   "cell_type": "markdown",
   "metadata": {},
   "source": [
    "#### Welche Altersgruppe tätigt die meisten Ausleihen?"
   ]
  },
  {
   "cell_type": "code",
   "execution_count": 31,
   "metadata": {},
   "outputs": [],
   "source": [
    "ausleihen = df.loc[\n",
    "    (df['Total Checkouts'])]"
   ]
  },
  {
   "cell_type": "code",
   "execution_count": 32,
   "metadata": {},
   "outputs": [
    {
     "data": {
      "text/plain": [
       "0 to 9 years         157711\n",
       "10 to 19 years       146437\n",
       "35 to 44 years        41649\n",
       "25 to 34 years        37324\n",
       "45 to 54 years        19266\n",
       "20 to 24 years        10831\n",
       "65 to 74 years        10752\n",
       "55 to 59 years         6273\n",
       "60 to 64 years         3702\n",
       "75 years and over      2310\n",
       "Name: Age Range, dtype: int64"
      ]
     },
     "execution_count": 32,
     "metadata": {},
     "output_type": "execute_result"
    }
   ],
   "source": [
    "ausleihen['Age Range'].value_counts()"
   ]
  },
  {
   "attachments": {},
   "cell_type": "markdown",
   "metadata": {},
   "source": [
    "#### Welche Altersgruppe hat monatliche am häufigsten 0 Ausleihen?"
   ]
  }
 ],
 "metadata": {
  "kernelspec": {
   "display_name": "base",
   "language": "python",
   "name": "python3"
  },
  "language_info": {
   "codemirror_mode": {
    "name": "ipython",
    "version": 3
   },
   "file_extension": ".py",
   "mimetype": "text/x-python",
   "name": "python",
   "nbconvert_exporter": "python",
   "pygments_lexer": "ipython3",
   "version": "3.9.13"
  },
  "orig_nbformat": 4
 },
 "nbformat": 4,
 "nbformat_minor": 2
}
