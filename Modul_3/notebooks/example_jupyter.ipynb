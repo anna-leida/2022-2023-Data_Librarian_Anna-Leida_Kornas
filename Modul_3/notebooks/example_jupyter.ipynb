{
 "cells": [
  {
   "cell_type": "markdown",
   "metadata": {},
   "source": [
    "# Jupyter Notebook Beispiel\n",
    "\n",
    "- Das hier ist eine Text-Zelle geschrieben in [Markdown](https://github.com/adam-p/markdown-here/wiki/Markdown-Cheatsheet).\n",
    "- Mit einem Doppelklick in die Zelle, kannst Du den Text bearbeiten.\n",
    "- Mit einem Klick auf den `Run` Button oder mit der Tastenkombinaion `Strg`+`Enter` kannst Du Code in Zellen ausführen oder Markdown Text rendern."
   ]
  },
  {
   "cell_type": "code",
   "execution_count": 2,
   "metadata": {},
   "outputs": [],
   "source": [
    "# das hier ist eine Zelle mit Programmcode!\n",
    "\n",
    "# zuerst werden die benötgten libraries importiert\n",
    "import numpy as np\n",
    "import matplotlib.pyplot as plt\n",
    "import seaborn as sns\n",
    "\n",
    "# sns.set() verschönert das Aussehen der plots\n",
    "sns.set()\n",
    "\n",
    "# 100 normalverteilte Zahlen werden generiert\n",
    "random_numbers = np.random.normal(size = 100)\n",
    "\n",
    "# plot mit z.B. displot erstellen\n",
    "plot = sns.displot(random_numbers, color=\"red\")\n",
    "\n",
    "#Du kannst diese Programmcodezelle mehrmals ausführen und so werden jedesmal unterschiedliche normalverteilte Zahlen generiert und entsprechend ändern sich die Plots.\n",
    "#Kornas, 02.03.2023"
   ]
  },
  {
   "cell_type": "code",
   "execution_count": 1,
   "metadata": {},
   "outputs": [
    {
     "data": {
      "text/html": [
       "<div>\n",
       "<style scoped>\n",
       "    .dataframe tbody tr th:only-of-type {\n",
       "        vertical-align: middle;\n",
       "    }\n",
       "\n",
       "    .dataframe tbody tr th {\n",
       "        vertical-align: top;\n",
       "    }\n",
       "\n",
       "    .dataframe thead th {\n",
       "        text-align: right;\n",
       "    }\n",
       "</style>\n",
       "<table border=\"1\" class=\"dataframe\">\n",
       "  <thead>\n",
       "    <tr style=\"text-align: right;\">\n",
       "      <th></th>\n",
       "      <th>month</th>\n",
       "      <th>temperatur</th>\n",
       "    </tr>\n",
       "  </thead>\n",
       "  <tbody>\n",
       "    <tr>\n",
       "      <th>count</th>\n",
       "      <td>6.000000</td>\n",
       "      <td>6.000000</td>\n",
       "    </tr>\n",
       "    <tr>\n",
       "      <th>mean</th>\n",
       "      <td>3.500000</td>\n",
       "      <td>4.666667</td>\n",
       "    </tr>\n",
       "    <tr>\n",
       "      <th>std</th>\n",
       "      <td>1.870829</td>\n",
       "      <td>11.809601</td>\n",
       "    </tr>\n",
       "    <tr>\n",
       "      <th>min</th>\n",
       "      <td>1.000000</td>\n",
       "      <td>-12.000000</td>\n",
       "    </tr>\n",
       "    <tr>\n",
       "      <th>25%</th>\n",
       "      <td>2.250000</td>\n",
       "      <td>-3.000000</td>\n",
       "    </tr>\n",
       "    <tr>\n",
       "      <th>50%</th>\n",
       "      <td>3.500000</td>\n",
       "      <td>6.000000</td>\n",
       "    </tr>\n",
       "    <tr>\n",
       "      <th>75%</th>\n",
       "      <td>4.750000</td>\n",
       "      <td>12.000000</td>\n",
       "    </tr>\n",
       "    <tr>\n",
       "      <th>max</th>\n",
       "      <td>6.000000</td>\n",
       "      <td>20.000000</td>\n",
       "    </tr>\n",
       "  </tbody>\n",
       "</table>\n",
       "</div>"
      ],
      "text/plain": [
       "          month  temperatur\n",
       "count  6.000000    6.000000\n",
       "mean   3.500000    4.666667\n",
       "std    1.870829   11.809601\n",
       "min    1.000000  -12.000000\n",
       "25%    2.250000   -3.000000\n",
       "50%    3.500000    6.000000\n",
       "75%    4.750000   12.000000\n",
       "max    6.000000   20.000000"
      ]
     },
     "execution_count": 1,
     "metadata": {},
     "output_type": "execute_result"
    }
   ],
   "source": [
    "#1.5 \n",
    "# import the library and give it a shorter name 'pd'\n",
    "import pandas as pd\n",
    "\n",
    "# create a dataframe by hand with two columns and three rows\n",
    "df = pd.DataFrame({\n",
    "        'month': [1, 2, 3, 4, 5, 6],\n",
    "        'temperatur': [-12, 3, 9, -5, 20, 13]\n",
    "})\n",
    "\n",
    "# print out some descriptive statistics\n",
    "df.describe()"
   ]
  },
  {
   "cell_type": "code",
   "execution_count": 2,
   "metadata": {},
   "outputs": [
    {
     "data": {
      "text/plain": [
       "[<matplotlib.lines.Line2D at 0x7fa9a8f65f10>]"
      ]
     },
     "execution_count": 2,
     "metadata": {},
     "output_type": "execute_result"
    },
    {
     "data": {
      "image/png": "[encoded data removed]",
      "text/plain": [
       "<Figure size 640x480 with 1 Axes>"
      ]
     },
     "metadata": {},
     "output_type": "display_data"
    }
   ],
   "source": [
    "#1.6\n",
    "# import the package and give it the shorter name 'plt'\n",
    "%matplotlib inline\n",
    "import matplotlib.pyplot as plt\n",
    "\n",
    "# create some dummy data\n",
    "x = range(1, 10)\n",
    "\n",
    "# make a simple scatter plot of the data\n",
    "plt.plot(x, x, c=\"black\", linestyle='', marker='_')"
   ]
  },
  {
   "cell_type": "code",
   "execution_count": 3,
   "metadata": {},
   "outputs": [
    {
     "data": {
      "text/plain": [
       "[<matplotlib.lines.Line2D at 0x7fa9a53f7c40>]"
      ]
     },
     "execution_count": 3,
     "metadata": {},
     "output_type": "execute_result"
    },
    {
     "data": {
      "image/png": "[encoded data removed]",
      "text/plain": [
       "<Figure size 640x480 with 1 Axes>"
      ]
     },
     "metadata": {},
     "output_type": "display_data"
    }
   ],
   "source": [
    "# import the libraries and give them some shorter names\n",
    "import matplotlib.pyplot as plt\n",
    "import seaborn as sns\n",
    "\n",
    "# setup the seaborn library\n",
    "sns.set()\n",
    "\n",
    "# create the same plot as in the previous example\n",
    "x = range(1, 10)\n",
    "plt.plot(x, x)"
   ]
  },
  {
   "cell_type": "code",
   "execution_count": 4,
   "metadata": {},
   "outputs": [
    {
     "data": {
      "text/plain": [
       "Ttest_indResult(statistic=9.281138146360542, pvalue=2.7794419042727725e-08)"
      ]
     },
     "execution_count": 4,
     "metadata": {},
     "output_type": "execute_result"
    }
   ],
   "source": [
    "# import the package stats from the library scipy\n",
    "from scipy import stats\n",
    "\n",
    "# create two numerical arrays\n",
    "x = [12, 10, 11, 13, 14, 10, 13, 13, 22]\n",
    "y = [1, 4, 2, 3, 5, 2, 1, 0, 0, 1, 2]\n",
    "\n",
    "# perform a two sample t-test, to test if the samples have different means\n",
    "stats.ttest_ind(x,y)"
   ]
  },
  {
   "cell_type": "code",
   "execution_count": null,
   "metadata": {},
   "outputs": [],
   "source": []
  }
 ],
 "metadata": {
  "kernelspec": {
   "display_name": "Python 3 (ipykernel)",
   "language": "python",
   "name": "python3"
  },
  "language_info": {
   "codemirror_mode": {
    "name": "ipython",
    "version": 3
   },
   "file_extension": ".py",
   "mimetype": "text/x-python",
   "name": "python",
   "nbconvert_exporter": "python",
   "pygments_lexer": "ipython3",
   "version": "3.9.13"
  }
 },
 "nbformat": 4,
 "nbformat_minor": 4
}
